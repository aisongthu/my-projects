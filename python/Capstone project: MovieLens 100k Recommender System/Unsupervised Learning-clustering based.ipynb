{
 "cells": [
  {
   "cell_type": "markdown",
   "id": "69cfdec1-9a87-41b0-865d-8044c9f288ea",
   "metadata": {},
   "source": [
    "# Data Cleaning"
   ]
  },
  {
   "cell_type": "code",
   "execution_count": 1,
   "id": "49c70021-c35b-4436-92e9-ae22669270d0",
   "metadata": {},
   "outputs": [
    {
     "name": "stdout",
     "output_type": "stream",
     "text": [
      "Warning: Looks like you're using an outdated `kagglehub` version, please consider updating (latest version: 0.3.3)\n"
     ]
    }
   ],
   "source": [
    "import kagglehub\n",
    "import os\n",
    "import pandas as pd\n",
    "\n",
    "# Download latest version\n",
    "path = kagglehub.dataset_download(\"abhikjha/movielens-100k\")\n",
    "subdir_path = os.path.join(path, \"ml-latest-small\")\n",
    "\n",
    "# Load the data into DataFrames\n",
    "movies = pd.read_csv(os.path.join(subdir_path, \"movies.csv\"))\n",
    "ratings = pd.read_csv(os.path.join(subdir_path, \"ratings.csv\"))\n",
    "tags = pd.read_csv(os.path.join(subdir_path, \"tags.csv\"))\n",
    "\n",
    "# Drop the 'timestamp' column\n",
    "ratings = ratings.drop(columns=['timestamp'])\n",
    "tags = tags.drop(columns=['timestamp'])\n"
   ]
  },
  {
   "cell_type": "markdown",
   "id": "611234cb-42a7-4811-87fc-c3c56bf15264",
   "metadata": {},
   "source": [
    "# Feature engineering"
   ]
  },
  {
   "cell_type": "code",
   "execution_count": 2,
   "id": "5e35b483-8b09-4372-b7e6-a1d7ab38b382",
   "metadata": {},
   "outputs": [],
   "source": [
    "# Split genres into individual columns\n",
    "genres = movies['genres'].str.get_dummies(sep='|')\n",
    "movies = pd.concat([movies, genres], axis=1)"
   ]
  },
  {
   "cell_type": "code",
   "execution_count": 3,
   "id": "09bc6ce0-4bc2-46e8-8d26-eaf9e702109e",
   "metadata": {},
   "outputs": [],
   "source": [
    "# Drop the '(no genres listed)' column if it exists\n",
    "if '(no genres listed)' in movies.columns:\n",
    "    movies = movies.drop(columns=['(no genres listed)'])"
   ]
  },
  {
   "cell_type": "code",
   "execution_count": 4,
   "id": "193cbd22-02d5-48a5-861c-0ef152e5e75d",
   "metadata": {},
   "outputs": [],
   "source": [
    "# Merge ratings with movies to include genres\n",
    "user_genre_data = pd.merge(ratings, movies, on='movieId')"
   ]
  },
  {
   "cell_type": "code",
   "execution_count": 5,
   "id": "d5a4a473-68c4-41e0-ad8d-74d039def851",
   "metadata": {},
   "outputs": [],
   "source": [
    "# Ensure columns exist for genres\n",
    "genres_cols = [col for col in genres.columns if col in user_genre_data.columns]"
   ]
  },
  {
   "cell_type": "code",
   "execution_count": 6,
   "id": "3d88fd94-88c1-4647-a1cd-612b7ba2adfa",
   "metadata": {},
   "outputs": [],
   "source": [
    "# Calculate average rating per genre for each user\n",
    "user_genre_avg = user_genre_data.groupby('userId')[genres_cols].mean().reset_index()"
   ]
  },
  {
   "cell_type": "code",
   "execution_count": 7,
   "id": "d59da6e3-1ce8-464e-971f-6d88939e2722",
   "metadata": {},
   "outputs": [],
   "source": [
    "# Merge tags with movies\n",
    "user_tags_data = pd.merge(tags, movies, on='movieId')"
   ]
  },
  {
   "cell_type": "code",
   "execution_count": 8,
   "id": "277eacc3-375f-4d5a-a937-b824bf8b7a26",
   "metadata": {},
   "outputs": [],
   "source": [
    "# Aggregate tags for each user\n",
    "user_tags_agg = user_tags_data.groupby('userId')['tag'].apply(lambda x: ' '.join(x)).reset_index()"
   ]
  },
  {
   "cell_type": "code",
   "execution_count": 9,
   "id": "b7b27682-eaa5-401d-b996-d9cb6b676365",
   "metadata": {},
   "outputs": [],
   "source": [
    "# Merge average ratings with aggregated tags\n",
    "user_profiles = pd.merge(user_genre_avg, user_tags_agg, on='userId', how='left')\n",
    "user_profiles['tag'] = user_profiles['tag'].fillna('')"
   ]
  },
  {
   "cell_type": "code",
   "execution_count": 10,
   "id": "46186bd1-3259-43e3-970e-dcd734321d19",
   "metadata": {},
   "outputs": [],
   "source": [
    "# Combine genre averages and tags into a single text field\n",
    "user_profiles['user_combined'] = user_profiles[genres_cols].apply(lambda x: ' '.join(x.index[x > 0]), axis=1) + ' ' + user_profiles['tag']"
   ]
  },
  {
   "cell_type": "code",
   "execution_count": 11,
   "id": "a36c482b-6d48-47f6-9192-298a021e4a6c",
   "metadata": {},
   "outputs": [],
   "source": [
    "# Remove duplicates\n",
    "user_profiles = user_profiles.drop_duplicates(subset=['user_combined'])"
   ]
  },
  {
   "cell_type": "code",
   "execution_count": 12,
   "id": "a9dec25f-e52e-45f0-afe5-4abdda3bfce8",
   "metadata": {},
   "outputs": [],
   "source": [
    "# Create item profiles by combining relevant features\n",
    "movies['item_combined'] = movies['genres']"
   ]
  },
  {
   "cell_type": "code",
   "execution_count": 13,
   "id": "1207dba7-16c7-4390-accc-7c8efea35398",
   "metadata": {},
   "outputs": [],
   "source": [
    "from sklearn.feature_extraction.text import TfidfVectorizer\n",
    "from sklearn.metrics.pairwise import cosine_similarity\n",
    "\n",
    "# Vectorize item profiles\n",
    "vectorizer = TfidfVectorizer(max_features=5000, ngram_range=(1, 2), stop_words='english')\n",
    "item_vectors = vectorizer.fit_transform(movies['item_combined'])"
   ]
  },
  {
   "cell_type": "code",
   "execution_count": 14,
   "id": "922f2e2e-9dcd-4798-a525-98576e6faa69",
   "metadata": {},
   "outputs": [],
   "source": [
    "# # Calculate cosine similarity between item profiles\n",
    "# item_cosine_sim = cosine_similarity(item_vectors, item_vectors)"
   ]
  },
  {
   "cell_type": "code",
   "execution_count": 15,
   "id": "0d0275d8-e764-4dc8-bcbc-b0cc4fe786e2",
   "metadata": {},
   "outputs": [],
   "source": [
    "# Vectorize user profiles\n",
    "user_vectors = vectorizer.transform(user_profiles['user_combined'])"
   ]
  },
  {
   "cell_type": "markdown",
   "id": "830870f2-cfe6-4e3c-99e9-6690de1ebb36",
   "metadata": {},
   "source": [
    "# Clustering-based recommender system"
   ]
  },
  {
   "cell_type": "code",
   "execution_count": 16,
   "id": "1bcd80e3-f338-44a6-9549-2a110fb09ba9",
   "metadata": {},
   "outputs": [],
   "source": [
    "from sklearn.cluster import KMeans\n",
    "import pandas as pd\n",
    "\n",
    "# Use the user vectors for clustering\n",
    "kmeans = KMeans(n_clusters=10, random_state=42)\n",
    "user_clusters = kmeans.fit_predict(user_vectors)\n",
    "user_profiles['cluster'] = user_clusters"
   ]
  },
  {
   "cell_type": "code",
   "execution_count": 17,
   "id": "f0594c5a-6aea-403f-a142-5bd5e4bcc85e",
   "metadata": {},
   "outputs": [],
   "source": [
    "# Map recommendations back to movie titles\n",
    "movie_id_map = {idx: row['title'] for idx, row in movies.iterrows()}"
   ]
  },
  {
   "cell_type": "code",
   "execution_count": 18,
   "id": "598cd8f5-9c92-4f65-b54d-82d31454c1c7",
   "metadata": {},
   "outputs": [],
   "source": [
    "# Recommend top movies for each cluster\n",
    "def recommend_for_cluster(cluster_id, top_n=10):\n",
    "    cluster_users = user_profiles[user_profiles['cluster'] == cluster_id]\n",
    "    cluster_profiles = cluster_users['user_combined'].apply(lambda x: x).tolist()\n",
    "    \n",
    "    # Create a combined profile for the cluster\n",
    "    combined_profile = ' '.join(cluster_profiles)\n",
    "    \n",
    "    # Vectorize the combined profile\n",
    "    combined_vector = vectorizer.transform([combined_profile])\n",
    "    \n",
    "    # Calculate similarity between the combined profile and item profiles\n",
    "    cosine_sim = cosine_similarity(combined_vector, item_vectors)\n",
    "    \n",
    "    # Get top N recommendations\n",
    "    top_indices = cosine_sim[0].argsort()[-top_n:][::-1]\n",
    "    recommendations = [movie_id_map[i] for i in top_indices]\n",
    "    \n",
    "    return recommendations"
   ]
  },
  {
   "cell_type": "code",
   "execution_count": 19,
   "id": "69eb8a64-c1b2-46ab-9a2c-a7c7ed70224a",
   "metadata": {},
   "outputs": [],
   "source": [
    "# Example usage\n",
    "cluster_id = 9\n",
    "top_movies = recommend_for_cluster(cluster_id)"
   ]
  },
  {
   "cell_type": "code",
   "execution_count": 20,
   "id": "f4d3dd9f-e419-4770-979b-c842d2780855",
   "metadata": {},
   "outputs": [
    {
     "data": {
      "text/plain": [
       "['Rubber (2010)',\n",
       " 'Angel Heart (1987)',\n",
       " 'Lost Highway (1997)',\n",
       " 'Gilda (1946)',\n",
       " 'In a Lonely Place (1950)',\n",
       " 'This World, Then the Fireworks (1997)',\n",
       " 'Born to Kill (1947)',\n",
       " 'Blood Simple (1984)',\n",
       " 'Grifters, The (1990)',\n",
       " 'Limits of Control, The (2009)']"
      ]
     },
     "execution_count": 20,
     "metadata": {},
     "output_type": "execute_result"
    }
   ],
   "source": [
    "top_movies"
   ]
  },
  {
   "cell_type": "code",
   "execution_count": 21,
   "id": "300d0a33-7bf4-4955-9923-3b575c3bbbe6",
   "metadata": {},
   "outputs": [
    {
     "name": "stdout",
     "output_type": "stream",
     "text": [
      "Top movies for cluster 9:\n"
     ]
    },
    {
     "data": {
      "text/html": [
       "<div>\n",
       "<style scoped>\n",
       "    .dataframe tbody tr th:only-of-type {\n",
       "        vertical-align: middle;\n",
       "    }\n",
       "\n",
       "    .dataframe tbody tr th {\n",
       "        vertical-align: top;\n",
       "    }\n",
       "\n",
       "    .dataframe thead th {\n",
       "        text-align: right;\n",
       "    }\n",
       "</style>\n",
       "<table border=\"1\" class=\"dataframe\">\n",
       "  <thead>\n",
       "    <tr style=\"text-align: right;\">\n",
       "      <th></th>\n",
       "      <th>Recommended Movies</th>\n",
       "    </tr>\n",
       "  </thead>\n",
       "  <tbody>\n",
       "    <tr>\n",
       "      <th>0</th>\n",
       "      <td>Rubber (2010)</td>\n",
       "    </tr>\n",
       "    <tr>\n",
       "      <th>1</th>\n",
       "      <td>Angel Heart (1987)</td>\n",
       "    </tr>\n",
       "    <tr>\n",
       "      <th>2</th>\n",
       "      <td>Lost Highway (1997)</td>\n",
       "    </tr>\n",
       "    <tr>\n",
       "      <th>3</th>\n",
       "      <td>Gilda (1946)</td>\n",
       "    </tr>\n",
       "    <tr>\n",
       "      <th>4</th>\n",
       "      <td>In a Lonely Place (1950)</td>\n",
       "    </tr>\n",
       "    <tr>\n",
       "      <th>5</th>\n",
       "      <td>This World, Then the Fireworks (1997)</td>\n",
       "    </tr>\n",
       "    <tr>\n",
       "      <th>6</th>\n",
       "      <td>Born to Kill (1947)</td>\n",
       "    </tr>\n",
       "    <tr>\n",
       "      <th>7</th>\n",
       "      <td>Blood Simple (1984)</td>\n",
       "    </tr>\n",
       "    <tr>\n",
       "      <th>8</th>\n",
       "      <td>Grifters, The (1990)</td>\n",
       "    </tr>\n",
       "    <tr>\n",
       "      <th>9</th>\n",
       "      <td>Limits of Control, The (2009)</td>\n",
       "    </tr>\n",
       "  </tbody>\n",
       "</table>\n",
       "</div>"
      ],
      "text/plain": [
       "                      Recommended Movies\n",
       "0                          Rubber (2010)\n",
       "1                     Angel Heart (1987)\n",
       "2                    Lost Highway (1997)\n",
       "3                           Gilda (1946)\n",
       "4               In a Lonely Place (1950)\n",
       "5  This World, Then the Fireworks (1997)\n",
       "6                    Born to Kill (1947)\n",
       "7                    Blood Simple (1984)\n",
       "8                   Grifters, The (1990)\n",
       "9          Limits of Control, The (2009)"
      ]
     },
     "execution_count": 21,
     "metadata": {},
     "output_type": "execute_result"
    }
   ],
   "source": [
    "# Display the recommendations in a table\n",
    "recommendations_df = pd.DataFrame(top_movies, columns=['Recommended Movies'])\n",
    "print(f\"Top movies for cluster {cluster_id}:\")\n",
    "recommendations_df"
   ]
  },
  {
   "cell_type": "markdown",
   "id": "b87f5d59-45f4-4570-8f88-a84ae2f72308",
   "metadata": {},
   "source": [
    "# Evaluation"
   ]
  },
  {
   "cell_type": "code",
   "execution_count": 22,
   "id": "b15c2e19-3bf9-4255-a00a-24f8290a8793",
   "metadata": {},
   "outputs": [],
   "source": [
    "# Merge seen movies with user_profiles\n",
    "user_seen_movies = user_genre_data.groupby('userId')['title'].apply(set).reset_index()\n",
    "user_seen_movies.rename(columns={'title': 'Seen Movies'}, inplace=True)\n",
    "\n",
    "# Append recommendations to the existing dataframe for each user\n",
    "user_profiles = user_profiles.merge(user_seen_movies, on='userId', how='left')\n"
   ]
  },
  {
   "cell_type": "code",
   "execution_count": 23,
   "id": "d7d2ee2c-742e-45de-b875-c2b990d69084",
   "metadata": {},
   "outputs": [],
   "source": [
    "import numpy as np\n",
    "from sklearn.metrics import precision_score, recall_score, f1_score, mean_squared_error\n",
    "from sklearn.metrics.pairwise import cosine_similarity\n",
    "\n",
    "def evaluate_cluster(cluster_id, top_n=10, default_rating=2.5):\n",
    "    cluster_users = user_profiles[user_profiles['cluster'] == cluster_id]\n",
    "    recommendations = recommend_for_cluster(cluster_id, top_n)\n",
    "    \n",
    "    all_precisions, all_recalls, all_f1_scores, all_rmses = [], [], [], []\n",
    "    \n",
    "    for user_id in cluster_users['userId']:\n",
    "        seen_movies = user_profiles[user_profiles['userId'] == user_id]['Seen Movies'].values[0]\n",
    "        y_true = [1 if movie in seen_movies else 0 for movie in movies['title']]\n",
    "        y_pred = [1 if movie in recommendations else 0 for movie in movies['title']]\n",
    "        \n",
    "        # Calculate precision, recall, and f1 score\n",
    "        precision = precision_score(y_true, y_pred)\n",
    "        recall = recall_score(y_true, y_pred)\n",
    "        f1 = f1_score(y_true, y_pred)\n",
    "        \n",
    "        # Append to lists\n",
    "        all_precisions.append(precision)\n",
    "        all_recalls.append(recall)\n",
    "        all_f1_scores.append(f1)\n",
    "        \n",
    "        # Calculate cosine similarity for RMSE\n",
    "        combined_vector = vectorizer.transform([user_profiles[user_profiles['userId'] == user_id]['user_combined'].values[0]])\n",
    "        cosine_sim = cosine_similarity(combined_vector, item_vectors)\n",
    "        \n",
    "        # RMSE calculation\n",
    "        user_ratings_pred = [1 - cosine_sim[0][i] for i in range(len(movies))]\n",
    "        actual_ratings = ratings[ratings['userId'] == user_id]\n",
    "        merged = pd.merge(movies[['movieId', 'title']], actual_ratings, on='movieId', how='left')\n",
    "        merged = merged.copy()\n",
    "        merged['rating'] = merged['rating'].fillna(default_rating)\n",
    "        \n",
    "        y_true_rmse = merged['rating'].values\n",
    "        y_pred_rmse = user_ratings_pred[:len(y_true_rmse)]\n",
    "        rmse = np.sqrt(mean_squared_error(y_true_rmse, y_pred_rmse))\n",
    "        \n",
    "        all_rmses.append(rmse)\n",
    "    \n",
    "    average_cluster_precision = np.mean(all_precisions)\n",
    "    average_cluster_recall = np.mean(all_recalls)\n",
    "    average_cluster_f1 = np.mean(all_f1_scores)\n",
    "    average_cluster_rmse = np.mean(all_rmses)\n",
    "    \n",
    "    return average_cluster_precision, average_cluster_recall, average_cluster_f1, average_cluster_rmse"
   ]
  },
  {
   "cell_type": "markdown",
   "id": "f9be05b9-ebcf-46b9-8dfa-c9ab039697c4",
   "metadata": {},
   "source": [
    "### Evaluate for 1 cluster"
   ]
  },
  {
   "cell_type": "code",
   "execution_count": 24,
   "id": "d598075c-5d0e-476e-b4f1-3da4bf73f806",
   "metadata": {},
   "outputs": [
    {
     "name": "stdout",
     "output_type": "stream",
     "text": [
      "Clustering-based System for cluster 9:\n",
      "Precision: 0.011111111111111112\n",
      "Recall: 0.0011947431302270013\n",
      "F1-Score: 0.002157497303128371\n",
      "RMSE: 1.6199738082142554\n"
     ]
    }
   ],
   "source": [
    "# Calculate metrics for cluster_id\n",
    "cluster_id = 9\n",
    "precision, recall, f1, rmse = evaluate_cluster(cluster_id)\n",
    "print(f\"Clustering-based System for cluster {cluster_id}:\")\n",
    "print(f\"Precision: {precision}\")\n",
    "print(f\"Recall: {recall}\")\n",
    "print(f\"F1-Score: {f1}\")\n",
    "print(f\"RMSE: {rmse}\")"
   ]
  },
  {
   "cell_type": "markdown",
   "id": "0ef527c6-2d43-4f8d-819f-68716dc26124",
   "metadata": {},
   "source": [
    "### Evaluate for all clusters"
   ]
  },
  {
   "cell_type": "code",
   "execution_count": 25,
   "id": "f643840e-f67e-45f8-b3db-8532e68c7f92",
   "metadata": {},
   "outputs": [
    {
     "name": "stdout",
     "output_type": "stream",
     "text": [
      "Clustering-based System for all users:\n",
      "Average Precision: 0.017161408528928813\n",
      "Average Recall: 0.0011230808545965945\n",
      "Average F1-Score: 0.0019731171360007887\n",
      "Average RMSE: 1.6425146678659022\n"
     ]
    }
   ],
   "source": [
    "# Calculate metrics for all users\n",
    "top_n=10\n",
    "all_precisions, all_recalls, all_f1_scores, all_rmses = [], [], [], []\n",
    "for cluster_id in np.unique(user_profiles['cluster']):\n",
    "    precision, recall, f1, rmse = evaluate_cluster(cluster_id, top_n)\n",
    "    all_precisions.append(precision)\n",
    "    all_recalls.append(recall)\n",
    "    all_f1_scores.append(f1)\n",
    "    all_rmses.append(rmse)\n",
    "\n",
    "# Average the results\n",
    "average_precision = np.mean(all_precisions)\n",
    "average_recall = np.mean(all_recalls)\n",
    "average_f1 = np.mean(all_f1_scores)\n",
    "average_rmse = np.mean(all_rmses)\n",
    "    \n",
    "print(f\"Clustering-based System for all users:\")\n",
    "print(f\"Average Precision: {average_precision}\")\n",
    "print(f\"Average Recall: {average_recall}\")\n",
    "print(f\"Average F1-Score: {average_f1}\")\n",
    "print(f\"Average RMSE: {average_rmse}\")\n"
   ]
  },
  {
   "cell_type": "markdown",
   "id": "404194ce-4f11-418e-8022-2fe8253fad64",
   "metadata": {},
   "source": [
    "# Average Number of New/Unseen Courses Recommended Per User"
   ]
  },
  {
   "cell_type": "code",
   "execution_count": 26,
   "id": "4a535c84-8f62-47f8-b69b-72cd10bfd885",
   "metadata": {},
   "outputs": [
    {
     "name": "stdout",
     "output_type": "stream",
     "text": [
      "Average number of new/unseen movies recommended per user: 9.897674418604652\n"
     ]
    }
   ],
   "source": [
    "def count_new_recommendations(row):\n",
    "    seen_movies = row['Seen Movies']\n",
    "    recommended_movies = set(recommend_for_cluster(row['userId'], top_n=10))\n",
    "    new_recommendations = recommended_movies - seen_movies\n",
    "    return len(new_recommendations)\n",
    "\n",
    "# Calculate new recommendations for each user\n",
    "user_profiles['new_recommendations'] = user_profiles.apply(count_new_recommendations, axis=1)\n",
    "\n",
    "# Compute the average number of new/unseen recommendations per user\n",
    "average_new_recommendations = user_profiles['new_recommendations'].mean()\n",
    "print(f\"Average number of new/unseen movies recommended per user: {average_new_recommendations}\")\n"
   ]
  },
  {
   "cell_type": "markdown",
   "id": "44387508-c99f-4d39-8cb7-e12b4e51d72e",
   "metadata": {},
   "source": [
    "# Top 10 Most Frequently Recommended"
   ]
  },
  {
   "cell_type": "code",
   "execution_count": 27,
   "id": "a5bb48ec-afed-4c13-8550-86d2d9787678",
   "metadata": {},
   "outputs": [
    {
     "data": {
      "text/html": [
       "<div>\n",
       "<style scoped>\n",
       "    .dataframe tbody tr th:only-of-type {\n",
       "        vertical-align: middle;\n",
       "    }\n",
       "\n",
       "    .dataframe tbody tr th {\n",
       "        vertical-align: top;\n",
       "    }\n",
       "\n",
       "    .dataframe thead th {\n",
       "        text-align: right;\n",
       "    }\n",
       "</style>\n",
       "<table border=\"1\" class=\"dataframe\">\n",
       "  <thead>\n",
       "    <tr style=\"text-align: right;\">\n",
       "      <th></th>\n",
       "      <th>Movie</th>\n",
       "      <th>Frequency</th>\n",
       "    </tr>\n",
       "  </thead>\n",
       "  <tbody>\n",
       "    <tr>\n",
       "      <th>0</th>\n",
       "      <td>Andrew Dice Clay: Dice Rules (1991)</td>\n",
       "      <td>208</td>\n",
       "    </tr>\n",
       "    <tr>\n",
       "      <th>1</th>\n",
       "      <td>Cats &amp; Dogs (2001)</td>\n",
       "      <td>208</td>\n",
       "    </tr>\n",
       "    <tr>\n",
       "      <th>2</th>\n",
       "      <td>Beach Blanket Bingo (1965)</td>\n",
       "      <td>208</td>\n",
       "    </tr>\n",
       "    <tr>\n",
       "      <th>3</th>\n",
       "      <td>Another Woman (1988)</td>\n",
       "      <td>208</td>\n",
       "    </tr>\n",
       "    <tr>\n",
       "      <th>4</th>\n",
       "      <td>Alice (1990)</td>\n",
       "      <td>208</td>\n",
       "    </tr>\n",
       "    <tr>\n",
       "      <th>5</th>\n",
       "      <td>Rape Me (Baise-moi) (2000)</td>\n",
       "      <td>208</td>\n",
       "    </tr>\n",
       "    <tr>\n",
       "      <th>6</th>\n",
       "      <td>Lost and Delirious (2001)</td>\n",
       "      <td>208</td>\n",
       "    </tr>\n",
       "    <tr>\n",
       "      <th>7</th>\n",
       "      <td>Scary Movie 2 (2001)</td>\n",
       "      <td>208</td>\n",
       "    </tr>\n",
       "    <tr>\n",
       "      <th>8</th>\n",
       "      <td>Kiss of the Dragon (2001)</td>\n",
       "      <td>208</td>\n",
       "    </tr>\n",
       "    <tr>\n",
       "      <th>9</th>\n",
       "      <td>Lumumba (2000)</td>\n",
       "      <td>208</td>\n",
       "    </tr>\n",
       "  </tbody>\n",
       "</table>\n",
       "</div>"
      ],
      "text/plain": [
       "                                 Movie  Frequency\n",
       "0  Andrew Dice Clay: Dice Rules (1991)        208\n",
       "1                   Cats & Dogs (2001)        208\n",
       "2           Beach Blanket Bingo (1965)        208\n",
       "3                 Another Woman (1988)        208\n",
       "4                         Alice (1990)        208\n",
       "5           Rape Me (Baise-moi) (2000)        208\n",
       "6            Lost and Delirious (2001)        208\n",
       "7                 Scary Movie 2 (2001)        208\n",
       "8            Kiss of the Dragon (2001)        208\n",
       "9                       Lumumba (2000)        208"
      ]
     },
     "execution_count": 27,
     "metadata": {},
     "output_type": "execute_result"
    }
   ],
   "source": [
    "from collections import Counter\n",
    "\n",
    "# Generate recommendations for each user and collect them\n",
    "all_recommendations = []\n",
    "for user_id in user_profiles['userId'].unique():\n",
    "    all_recommendations.extend(recommend_for_cluster(user_id, top_n=10))\n",
    "\n",
    "# Count frequencies of each recommended movie\n",
    "recommendation_counts = Counter(all_recommendations)\n",
    "\n",
    "# Get the top 10 most commonly recommended movies\n",
    "top_10_recommendations = recommendation_counts.most_common(10)\n",
    "top_10_recommendations_df = pd.DataFrame(top_10_recommendations, columns=['Movie', 'Frequency'])\n",
    "\n",
    "# Display the top 10 recommendations as a table\n",
    "top_10_recommendations_df\n"
   ]
  },
  {
   "cell_type": "code",
   "execution_count": null,
   "id": "ef03f65e-b73d-41d4-8e0c-e1cc4d80bc99",
   "metadata": {},
   "outputs": [],
   "source": []
  }
 ],
 "metadata": {
  "kernelspec": {
   "display_name": "Python 3 (ipykernel)",
   "language": "python",
   "name": "python3"
  },
  "language_info": {
   "codemirror_mode": {
    "name": "ipython",
    "version": 3
   },
   "file_extension": ".py",
   "mimetype": "text/x-python",
   "name": "python",
   "nbconvert_exporter": "python",
   "pygments_lexer": "ipython3",
   "version": "3.10.14"
  }
 },
 "nbformat": 4,
 "nbformat_minor": 5
}
