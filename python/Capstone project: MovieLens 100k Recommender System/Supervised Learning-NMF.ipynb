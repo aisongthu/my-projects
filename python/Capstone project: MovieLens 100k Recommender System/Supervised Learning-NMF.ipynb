{
 "cells": [
  {
   "cell_type": "markdown",
   "id": "69cfdec1-9a87-41b0-865d-8044c9f288ea",
   "metadata": {},
   "source": [
    "# Data Cleaning"
   ]
  },
  {
   "cell_type": "code",
   "execution_count": 1,
   "id": "49c70021-c35b-4436-92e9-ae22669270d0",
   "metadata": {},
   "outputs": [
    {
     "name": "stdout",
     "output_type": "stream",
     "text": [
      "Warning: Looks like you're using an outdated `kagglehub` version, please consider updating (latest version: 0.3.3)\n"
     ]
    }
   ],
   "source": [
    "import kagglehub\n",
    "import os\n",
    "import pandas as pd\n",
    "\n",
    "# Download latest version\n",
    "path = kagglehub.dataset_download(\"abhikjha/movielens-100k\")\n",
    "subdir_path = os.path.join(path, \"ml-latest-small\")\n",
    "\n",
    "# Load the data into DataFrames\n",
    "movies = pd.read_csv(os.path.join(subdir_path, \"movies.csv\"))\n",
    "ratings = pd.read_csv(os.path.join(subdir_path, \"ratings.csv\"))\n",
    "tags = pd.read_csv(os.path.join(subdir_path, \"tags.csv\"))\n",
    "\n",
    "# Drop the 'timestamp' column\n",
    "ratings = ratings.drop(columns=['timestamp'])\n",
    "tags = tags.drop(columns=['timestamp'])\n"
   ]
  },
  {
   "cell_type": "markdown",
   "id": "8ce0975e-faaf-4406-9dad-19d2458119db",
   "metadata": {},
   "source": [
    "# Feature Engineering"
   ]
  },
  {
   "cell_type": "code",
   "execution_count": 2,
   "id": "cbbb75c1-204d-4a1a-8dae-4c1276e90238",
   "metadata": {},
   "outputs": [],
   "source": [
    "from sklearn.feature_extraction.text import TfidfVectorizer\n",
    "from sklearn.metrics.pairwise import cosine_similarity\n",
    "\n",
    "# Split genres into individual columns\n",
    "genres = movies['genres'].str.get_dummies(sep='|')\n",
    "movies = pd.concat([movies, genres], axis=1)\n",
    "\n",
    "# Drop the '(no genres listed)' column if it exists\n",
    "if '(no genres listed)' in movies.columns:\n",
    "    movies = movies.drop(columns=['(no genres listed)'])\n",
    "\n",
    "# Merge ratings with movies to include genres\n",
    "user_genre_data = pd.merge(ratings, movies, on='movieId')\n",
    "\n",
    "# Ensure columns exist for genres\n",
    "genres_cols = [col for col in genres.columns if col in user_genre_data.columns]\n",
    "\n",
    "# Calculate average rating per genre for each user\n",
    "user_genre_avg = user_genre_data.groupby('userId')[genres_cols].mean().reset_index()\n",
    "\n",
    "# Merge tags with movies\n",
    "user_tags_data = pd.merge(tags, movies, on='movieId')\n",
    "\n",
    "# Aggregate tags for each user\n",
    "user_tags_agg = user_tags_data.groupby('userId')['tag'].apply(lambda x: ' '.join(x)).reset_index()\n",
    "\n",
    "# Merge average ratings with aggregated tags\n",
    "user_profiles = pd.merge(user_genre_avg, user_tags_agg, on='userId', how='left')\n",
    "user_profiles['tag'] = user_profiles['tag'].fillna('')\n",
    "\n",
    "# Combine genre averages and tags into a single text field\n",
    "user_profiles['user_combined'] = user_profiles[genres_cols].apply(lambda x: ' '.join(x.index[x > 0]), axis=1) + ' ' + user_profiles['tag']\n",
    "\n",
    "# Remove duplicates\n",
    "user_profiles = user_profiles.drop_duplicates(subset=['user_combined'])\n",
    "\n",
    "# Create item profiles by combining relevant features\n",
    "movies['item_combined'] = movies['genres']\n",
    "\n",
    "# Vectorize item profiles\n",
    "vectorizer = TfidfVectorizer(max_features=5000, ngram_range=(1, 2), stop_words='english')\n",
    "item_vectors = vectorizer.fit_transform(movies['item_combined'])\n",
    "\n",
    "# Vectorize user profiles\n",
    "user_vectors = vectorizer.transform(user_profiles['user_combined'])\n"
   ]
  },
  {
   "cell_type": "markdown",
   "id": "bb16c2a1-af1e-43cb-8c16-f90532c70885",
   "metadata": {},
   "source": [
    "# NMF-based recommender system"
   ]
  },
  {
   "cell_type": "code",
   "execution_count": 3,
   "id": "28efb3d9-3476-4c9b-aaec-00289f1212ea",
   "metadata": {},
   "outputs": [],
   "source": [
    "import numpy as np\n",
    "from sklearn.decomposition import NMF\n",
    "from sklearn.preprocessing import MinMaxScaler\n",
    "\n",
    "# Create a pivot table (user-item matrix)\n",
    "ratings_pivot = ratings.pivot(index='userId', columns='movieId', values='rating').fillna(0)\n",
    "\n",
    "# Normalize data before applying NMF\n",
    "scaler = MinMaxScaler()\n",
    "ratings_normalized = scaler.fit_transform(ratings_pivot)\n",
    "\n",
    "# Apply NMF\n",
    "nmf = NMF(n_components=20, random_state=42)\n",
    "W = nmf.fit_transform(ratings_normalized)\n",
    "H = nmf.components_\n",
    "\n",
    "# Create user-item matrix\n",
    "user_item_matrix = user_genre_data.pivot(index='userId', columns='movieId', values='rating').fillna(0)\n",
    "\n",
    "# Function to recommend items based on NMF\n",
    "def nmf_recommend(user_id, top_n=10):\n",
    "    user_index = user_profiles[user_profiles['userId'] == user_id].index[0]\n",
    "    user_ratings_pred = np.dot(W[user_index], H)\n",
    "    \n",
    "    # Get top N recommendations\n",
    "    movie_indices = user_ratings_pred.argsort()[-top_n:][::-1]\n",
    "    recommended_movies = [movies.iloc[i]['title'] for i in movie_indices]\n",
    "    \n",
    "    return recommended_movies\n"
   ]
  },
  {
   "cell_type": "code",
   "execution_count": 4,
   "id": "698db4dd-a128-4366-aeb2-e4e998f6ebf3",
   "metadata": {},
   "outputs": [
    {
     "data": {
      "text/plain": [
       "[\"Cheech and Chong's Up in Smoke (1978)\",\n",
       " 'Star Wars: Episode IV - A New Hope (1977)',\n",
       " \"Once Upon a Time in the West (C'era una volta il West) (1968)\",\n",
       " 'Princess Bride, The (1987)',\n",
       " 'Local Hero (1983)',\n",
       " 'Terminator 2: Judgment Day (1991)',\n",
       " 'Walk on the Moon, A (1999)',\n",
       " \"Jane Austen's Mafia! (1998)\",\n",
       " 'Brazil (1985)',\n",
       " 'Some Kind of Wonderful (1987)']"
      ]
     },
     "execution_count": 4,
     "metadata": {},
     "output_type": "execute_result"
    }
   ],
   "source": [
    "nmf_recommend(user_id=1, top_n=10)"
   ]
  },
  {
   "cell_type": "code",
   "execution_count": 5,
   "id": "d8322de3-161c-4dc4-b613-15c981dc2bf6",
   "metadata": {},
   "outputs": [
    {
     "data": {
      "text/html": [
       "<div>\n",
       "<style scoped>\n",
       "    .dataframe tbody tr th:only-of-type {\n",
       "        vertical-align: middle;\n",
       "    }\n",
       "\n",
       "    .dataframe tbody tr th {\n",
       "        vertical-align: top;\n",
       "    }\n",
       "\n",
       "    .dataframe thead th {\n",
       "        text-align: right;\n",
       "    }\n",
       "</style>\n",
       "<table border=\"1\" class=\"dataframe\">\n",
       "  <thead>\n",
       "    <tr style=\"text-align: right;\">\n",
       "      <th></th>\n",
       "      <th>Recommended Movies</th>\n",
       "    </tr>\n",
       "  </thead>\n",
       "  <tbody>\n",
       "    <tr>\n",
       "      <th>1</th>\n",
       "      <td>Cheech and Chong's Up in Smoke (1978)</td>\n",
       "    </tr>\n",
       "    <tr>\n",
       "      <th>2</th>\n",
       "      <td>Star Wars: Episode IV - A New Hope (1977)</td>\n",
       "    </tr>\n",
       "    <tr>\n",
       "      <th>3</th>\n",
       "      <td>Once Upon a Time in the West (C'era una volta ...</td>\n",
       "    </tr>\n",
       "    <tr>\n",
       "      <th>4</th>\n",
       "      <td>Princess Bride, The (1987)</td>\n",
       "    </tr>\n",
       "    <tr>\n",
       "      <th>5</th>\n",
       "      <td>Local Hero (1983)</td>\n",
       "    </tr>\n",
       "    <tr>\n",
       "      <th>6</th>\n",
       "      <td>Terminator 2: Judgment Day (1991)</td>\n",
       "    </tr>\n",
       "    <tr>\n",
       "      <th>7</th>\n",
       "      <td>Walk on the Moon, A (1999)</td>\n",
       "    </tr>\n",
       "    <tr>\n",
       "      <th>8</th>\n",
       "      <td>Jane Austen's Mafia! (1998)</td>\n",
       "    </tr>\n",
       "    <tr>\n",
       "      <th>9</th>\n",
       "      <td>Brazil (1985)</td>\n",
       "    </tr>\n",
       "    <tr>\n",
       "      <th>10</th>\n",
       "      <td>Some Kind of Wonderful (1987)</td>\n",
       "    </tr>\n",
       "  </tbody>\n",
       "</table>\n",
       "</div>"
      ],
      "text/plain": [
       "                                   Recommended Movies\n",
       "1               Cheech and Chong's Up in Smoke (1978)\n",
       "2           Star Wars: Episode IV - A New Hope (1977)\n",
       "3   Once Upon a Time in the West (C'era una volta ...\n",
       "4                          Princess Bride, The (1987)\n",
       "5                                   Local Hero (1983)\n",
       "6                   Terminator 2: Judgment Day (1991)\n",
       "7                          Walk on the Moon, A (1999)\n",
       "8                         Jane Austen's Mafia! (1998)\n",
       "9                                       Brazil (1985)\n",
       "10                      Some Kind of Wonderful (1987)"
      ]
     },
     "execution_count": 5,
     "metadata": {},
     "output_type": "execute_result"
    }
   ],
   "source": [
    "# Recommend movies for a specific user using Neural Network Embeddings\n",
    "user_id = 1\n",
    "recommended_movies = nmf_recommend(user_id, top_n=10)\n",
    "\n",
    "# Create a DataFrame to display the recommendations as a table\n",
    "recommendations_df = pd.DataFrame(recommended_movies, columns=['Recommended Movies'])\n",
    "recommendations_df.index = range(1, len(recommendations_df) + 1)  # Add ranking\n",
    "\n",
    "# Display the DataFrame\n",
    "recommendations_df\n"
   ]
  },
  {
   "cell_type": "markdown",
   "id": "c25d3a45-818d-4c59-adc5-3713d302683b",
   "metadata": {},
   "source": [
    "# Evaluation"
   ]
  },
  {
   "cell_type": "code",
   "execution_count": 6,
   "id": "be4fcc69-8311-47a2-a984-0b65b5a2932e",
   "metadata": {},
   "outputs": [],
   "source": [
    "# Merge seen movies with user_profiles\n",
    "user_seen_movies = user_genre_data.groupby('userId')['title'].apply(set).reset_index()\n",
    "user_seen_movies.rename(columns={'title': 'Seen Movies'}, inplace=True)\n",
    "\n",
    "# Append recommendations to the existing dataframe for each user\n",
    "user_profiles = user_profiles.merge(user_seen_movies, on='userId', how='left')\n"
   ]
  },
  {
   "cell_type": "code",
   "execution_count": 7,
   "id": "9b099b9e-a20a-49e0-b916-b39ccafe4425",
   "metadata": {},
   "outputs": [],
   "source": [
    "import numpy as np\n",
    "from sklearn.metrics import precision_score, recall_score, f1_score, mean_squared_error\n",
    "\n",
    "recommended_movies\n",
    "\n",
    "def evaluate_nmf(user_id, top_n=10):\n",
    "    if user_id not in user_profiles['userId'].values:\n",
    "        raise ValueError(f\"User ID {user_id} not found in user profiles.\")\n",
    "    \n",
    "    recommended_movies = nmf_recommend(user_id, top_n=top_n)\n",
    "    seen_movies = user_profiles[user_profiles['userId'] == user_id]['Seen Movies'].values[0]\n",
    "    \n",
    "    # Convert to binary arrays\n",
    "    y_true = [1 if movie in seen_movies else 0 for movie in movies['title']]\n",
    "    y_pred = [1 if movie in recommended_movies else 0 for movie in movies['title']]\n",
    "    \n",
    "    precision = precision_score(y_true, y_pred)\n",
    "    recall = recall_score(y_true, y_pred)\n",
    "    f1 = f1_score(y_true, y_pred)\n",
    "    \n",
    "    # Get actual and predicted ratings\n",
    "    user_index = user_profiles[user_profiles['userId'] == user_id].index[0]\n",
    "    user_ratings_pred = np.dot(W[user_index], H)\n",
    "    actual_ratings = ratings_pivot.iloc[user_index].values\n",
    "    \n",
    "    # Only consider items that the user has rated\n",
    "    mask = actual_ratings > 0\n",
    "    y_true = actual_ratings[mask]\n",
    "    y_pred = user_ratings_pred[mask]\n",
    "    \n",
    "    rmse = np.sqrt(mean_squared_error(y_true, y_pred))\n",
    "    \n",
    "    return precision, recall, f1, rmse\n",
    "    "
   ]
  },
  {
   "cell_type": "markdown",
   "id": "d4ed2624-e245-4fcd-b7e8-51188ba7a5c5",
   "metadata": {},
   "source": [
    "### Evaluate 1 user"
   ]
  },
  {
   "cell_type": "code",
   "execution_count": 8,
   "id": "caa9317b-110b-4e37-a32c-3be95f35b8e0",
   "metadata": {},
   "outputs": [
    {
     "name": "stdout",
     "output_type": "stream",
     "text": [
      "NMF-based System for user 1:\n",
      "Precision: 0.008620689655172414\n",
      "Recall: 0.01652892561983471\n",
      "F1-Score: 4.169699666937647\n",
      "RMSE: 0.2\n"
     ]
    }
   ],
   "source": [
    "rmse, precision, recall, f1 = evaluate_nmf(user_id=1)\n",
    "print(f\"NMF-based System for user {user_id}:\")\n",
    "print(f\"Precision: {precision}\")\n",
    "print(f\"Recall: {recall}\")\n",
    "print(f\"F1-Score: {f1}\")\n",
    "print(f\"RMSE: {rmse}\")"
   ]
  },
  {
   "cell_type": "markdown",
   "id": "9b0f6b7b-164e-4066-b8a9-ea185513df21",
   "metadata": {},
   "source": [
    "### Evaluate all users"
   ]
  },
  {
   "cell_type": "code",
   "execution_count": 9,
   "id": "9f851077-c843-4de7-b28b-090c58b6a969",
   "metadata": {},
   "outputs": [
    {
     "name": "stdout",
     "output_type": "stream",
     "text": [
      "NMF-based System for all users:\n",
      "Average Precision: 0.16558139534883723\n",
      "Average Recall: 0.025731552352016275\n",
      "Average F1-Score: 0.04018293551149663\n",
      "Average RMSE: 0.967050864075967\n"
     ]
    }
   ],
   "source": [
    "# Calculate metrics for all users\n",
    "user_ids = user_profiles['userId'].unique()\n",
    "metrics = [evaluate_nmf(user_id) for user_id in user_ids]\n",
    "rmses = [evaluate_nmf(user_id) for user_id in user_profiles['userId'].unique()]\n",
    "\n",
    "# Average the results\n",
    "average_precision = np.mean([m[0] for m in metrics])\n",
    "average_recall = np.mean([m[1] for m in metrics])\n",
    "average_f1 = np.mean([m[2] for m in metrics])\n",
    "average_rmse = np.mean(rmses)\n",
    "\n",
    "print(f\"NMF-based System for all users:\")\n",
    "print(f\"Average Precision: {average_precision}\")\n",
    "print(f\"Average Recall: {average_recall}\")\n",
    "print(f\"Average F1-Score: {average_f1}\")\n",
    "print(f\"Average RMSE: {average_rmse}\")\n"
   ]
  },
  {
   "cell_type": "markdown",
   "id": "46cf4f43-d40b-4806-8468-71787c61b895",
   "metadata": {},
   "source": [
    "# Average number of new/unseen courses recommended per user"
   ]
  },
  {
   "cell_type": "code",
   "execution_count": 10,
   "id": "cd2e57eb-b0a5-4bcc-bf10-1744e4ed96df",
   "metadata": {},
   "outputs": [
    {
     "name": "stdout",
     "output_type": "stream",
     "text": [
      "Average number of new/unseen movies recommended per user: 8.344186046511627\n"
     ]
    }
   ],
   "source": [
    "def count_new_recommendations(row):\n",
    "    seen_movies = row['Seen Movies']\n",
    "    recommended_movies = set(nmf_recommend(row['userId'], top_n=10))\n",
    "    new_recommendations = recommended_movies - seen_movies\n",
    "    return len(new_recommendations)\n",
    "\n",
    "# Calculate new recommendations for each user\n",
    "user_profiles['new_recommendations'] = user_profiles.apply(count_new_recommendations, axis=1)\n",
    "\n",
    "# Compute the average number of new/unseen recommendations per user\n",
    "average_new_recommendations = user_profiles['new_recommendations'].mean()\n",
    "print(f\"Average number of new/unseen movies recommended per user: {average_new_recommendations}\")\n"
   ]
  },
  {
   "cell_type": "markdown",
   "id": "ff2f9cbd-3423-45b5-930e-31c0fb47ca31",
   "metadata": {},
   "source": [
    "# Top 10 most commonly recommended"
   ]
  },
  {
   "cell_type": "code",
   "execution_count": 11,
   "id": "89337a4f-7eb9-4068-ab85-8ff205a89d05",
   "metadata": {},
   "outputs": [
    {
     "data": {
      "text/html": [
       "<div>\n",
       "<style scoped>\n",
       "    .dataframe tbody tr th:only-of-type {\n",
       "        vertical-align: middle;\n",
       "    }\n",
       "\n",
       "    .dataframe tbody tr th {\n",
       "        vertical-align: top;\n",
       "    }\n",
       "\n",
       "    .dataframe thead th {\n",
       "        text-align: right;\n",
       "    }\n",
       "</style>\n",
       "<table border=\"1\" class=\"dataframe\">\n",
       "  <thead>\n",
       "    <tr style=\"text-align: right;\">\n",
       "      <th></th>\n",
       "      <th>Movie</th>\n",
       "      <th>Frequency</th>\n",
       "    </tr>\n",
       "  </thead>\n",
       "  <tbody>\n",
       "    <tr>\n",
       "      <th>0</th>\n",
       "      <td>Forrest Gump (1994)</td>\n",
       "      <td>145</td>\n",
       "    </tr>\n",
       "    <tr>\n",
       "      <th>1</th>\n",
       "      <td>Shawshank Redemption, The (1994)</td>\n",
       "      <td>136</td>\n",
       "    </tr>\n",
       "    <tr>\n",
       "      <th>2</th>\n",
       "      <td>Pulp Fiction (1994)</td>\n",
       "      <td>135</td>\n",
       "    </tr>\n",
       "    <tr>\n",
       "      <th>3</th>\n",
       "      <td>Walk on the Moon, A (1999)</td>\n",
       "      <td>103</td>\n",
       "    </tr>\n",
       "    <tr>\n",
       "      <th>4</th>\n",
       "      <td>Home Alone 2: Lost in New York (1992)</td>\n",
       "      <td>81</td>\n",
       "    </tr>\n",
       "    <tr>\n",
       "      <th>5</th>\n",
       "      <td>Silence of the Lambs, The (1991)</td>\n",
       "      <td>76</td>\n",
       "    </tr>\n",
       "    <tr>\n",
       "      <th>6</th>\n",
       "      <td>Jurassic Park (1993)</td>\n",
       "      <td>69</td>\n",
       "    </tr>\n",
       "    <tr>\n",
       "      <th>7</th>\n",
       "      <td>Braveheart (1995)</td>\n",
       "      <td>67</td>\n",
       "    </tr>\n",
       "    <tr>\n",
       "      <th>8</th>\n",
       "      <td>White Water Summer (1987)</td>\n",
       "      <td>63</td>\n",
       "    </tr>\n",
       "    <tr>\n",
       "      <th>9</th>\n",
       "      <td>Cooler, The (2003)</td>\n",
       "      <td>62</td>\n",
       "    </tr>\n",
       "  </tbody>\n",
       "</table>\n",
       "</div>"
      ],
      "text/plain": [
       "                                   Movie  Frequency\n",
       "0                    Forrest Gump (1994)        145\n",
       "1       Shawshank Redemption, The (1994)        136\n",
       "2                    Pulp Fiction (1994)        135\n",
       "3             Walk on the Moon, A (1999)        103\n",
       "4  Home Alone 2: Lost in New York (1992)         81\n",
       "5       Silence of the Lambs, The (1991)         76\n",
       "6                   Jurassic Park (1993)         69\n",
       "7                      Braveheart (1995)         67\n",
       "8              White Water Summer (1987)         63\n",
       "9                     Cooler, The (2003)         62"
      ]
     },
     "execution_count": 11,
     "metadata": {},
     "output_type": "execute_result"
    }
   ],
   "source": [
    "from collections import Counter\n",
    "\n",
    "# Generate recommendations for each user and collect them\n",
    "all_recommendations = []\n",
    "for user_id in user_profiles['userId'].unique():\n",
    "    all_recommendations.extend(nmf_recommend(user_id, top_n=10))\n",
    "\n",
    "# Count frequencies of each recommended movie\n",
    "recommendation_counts = Counter(all_recommendations)\n",
    "\n",
    "# Get the top 10 most commonly recommended movies\n",
    "top_10_recommendations = recommendation_counts.most_common(10)\n",
    "top_10_recommendations_df = pd.DataFrame(top_10_recommendations, columns=['Movie', 'Frequency'])\n",
    "\n",
    "# Display the top 10 recommendations as a table\n",
    "top_10_recommendations_df\n"
   ]
  }
 ],
 "metadata": {
  "kernelspec": {
   "display_name": "Python 3 (ipykernel)",
   "language": "python",
   "name": "python3"
  },
  "language_info": {
   "codemirror_mode": {
    "name": "ipython",
    "version": 3
   },
   "file_extension": ".py",
   "mimetype": "text/x-python",
   "name": "python",
   "nbconvert_exporter": "python",
   "pygments_lexer": "ipython3",
   "version": "3.10.14"
  }
 },
 "nbformat": 4,
 "nbformat_minor": 5
}
