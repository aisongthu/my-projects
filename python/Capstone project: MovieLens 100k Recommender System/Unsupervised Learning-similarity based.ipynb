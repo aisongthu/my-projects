{
 "cells": [
  {
   "cell_type": "markdown",
   "id": "69cfdec1-9a87-41b0-865d-8044c9f288ea",
   "metadata": {},
   "source": [
    "# Data Cleaning"
   ]
  },
  {
   "cell_type": "code",
   "execution_count": 1,
   "id": "49c70021-c35b-4436-92e9-ae22669270d0",
   "metadata": {},
   "outputs": [
    {
     "name": "stdout",
     "output_type": "stream",
     "text": [
      "Warning: Looks like you're using an outdated `kagglehub` version, please consider updating (latest version: 0.3.3)\n"
     ]
    }
   ],
   "source": [
    "import kagglehub\n",
    "import os\n",
    "import pandas as pd\n",
    "\n",
    "# Download latest version\n",
    "path = kagglehub.dataset_download(\"abhikjha/movielens-100k\")\n",
    "subdir_path = os.path.join(path, \"ml-latest-small\")\n",
    "\n",
    "# Load the data into DataFrames\n",
    "movies = pd.read_csv(os.path.join(subdir_path, \"movies.csv\"))\n",
    "ratings = pd.read_csv(os.path.join(subdir_path, \"ratings.csv\"))\n",
    "tags = pd.read_csv(os.path.join(subdir_path, \"tags.csv\"))\n",
    "\n",
    "# Drop the 'timestamp' column\n",
    "ratings = ratings.drop(columns=['timestamp'])\n",
    "tags = tags.drop(columns=['timestamp'])\n"
   ]
  },
  {
   "cell_type": "markdown",
   "id": "611234cb-42a7-4811-87fc-c3c56bf15264",
   "metadata": {},
   "source": [
    "# Feature engineering"
   ]
  },
  {
   "cell_type": "code",
   "execution_count": 2,
   "id": "5e35b483-8b09-4372-b7e6-a1d7ab38b382",
   "metadata": {},
   "outputs": [],
   "source": [
    "# Split genres into individual columns\n",
    "genres = movies['genres'].str.get_dummies(sep='|')\n",
    "movies = pd.concat([movies, genres], axis=1)"
   ]
  },
  {
   "cell_type": "code",
   "execution_count": 3,
   "id": "77688a94-70ed-45b6-851b-d52533b71088",
   "metadata": {},
   "outputs": [],
   "source": [
    "# Drop the '(no genres listed)' column if it exists\n",
    "if '(no genres listed)' in movies.columns:\n",
    "    movies = movies.drop(columns=['(no genres listed)'])"
   ]
  },
  {
   "cell_type": "code",
   "execution_count": 4,
   "id": "193cbd22-02d5-48a5-861c-0ef152e5e75d",
   "metadata": {},
   "outputs": [],
   "source": [
    "# Merge ratings with movies to include genres\n",
    "user_genre_data = pd.merge(ratings, movies, on='movieId')"
   ]
  },
  {
   "cell_type": "code",
   "execution_count": 5,
   "id": "e38243d9-b124-42ee-b860-04323586bce1",
   "metadata": {},
   "outputs": [],
   "source": [
    "# Ensure columns exist for genres\n",
    "genres_cols = [col for col in genres.columns if col in user_genre_data.columns]"
   ]
  },
  {
   "cell_type": "code",
   "execution_count": 6,
   "id": "3d88fd94-88c1-4647-a1cd-612b7ba2adfa",
   "metadata": {},
   "outputs": [],
   "source": [
    "# Calculate average rating per genre for each user\n",
    "user_genre_avg = user_genre_data.groupby('userId')[genres_cols].mean().reset_index()"
   ]
  },
  {
   "cell_type": "code",
   "execution_count": 7,
   "id": "d59da6e3-1ce8-464e-971f-6d88939e2722",
   "metadata": {},
   "outputs": [],
   "source": [
    "# Merge tags with movies\n",
    "user_tags_data = pd.merge(tags, movies, on='movieId')"
   ]
  },
  {
   "cell_type": "code",
   "execution_count": 8,
   "id": "277eacc3-375f-4d5a-a937-b824bf8b7a26",
   "metadata": {},
   "outputs": [],
   "source": [
    "# Aggregate tags for each user\n",
    "user_tags_agg = user_tags_data.groupby('userId')['tag'].apply(lambda x: ' '.join(x)).reset_index()"
   ]
  },
  {
   "cell_type": "code",
   "execution_count": 9,
   "id": "b7b27682-eaa5-401d-b996-d9cb6b676365",
   "metadata": {},
   "outputs": [],
   "source": [
    "# Merge average ratings with aggregated tags\n",
    "user_profiles = pd.merge(user_genre_avg, user_tags_agg, on='userId', how='left')\n",
    "user_profiles['tag'] = user_profiles['tag'].fillna('')"
   ]
  },
  {
   "cell_type": "code",
   "execution_count": 10,
   "id": "46186bd1-3259-43e3-970e-dcd734321d19",
   "metadata": {},
   "outputs": [],
   "source": [
    "# Combine genre averages and tags into a single text field\n",
    "user_profiles['user_combined'] = user_profiles[genres_cols].apply(lambda x: ' '.join(x.index[x > 0]), axis=1) + ' ' + user_profiles['tag']"
   ]
  },
  {
   "cell_type": "code",
   "execution_count": 11,
   "id": "a36c482b-6d48-47f6-9192-298a021e4a6c",
   "metadata": {},
   "outputs": [],
   "source": [
    "# Remove duplicates\n",
    "user_profiles = user_profiles.drop_duplicates(subset=['user_combined'])"
   ]
  },
  {
   "cell_type": "code",
   "execution_count": 12,
   "id": "a9dec25f-e52e-45f0-afe5-4abdda3bfce8",
   "metadata": {},
   "outputs": [],
   "source": [
    "# Create item profiles by combining relevant features\n",
    "movies['item_combined'] = movies['genres']"
   ]
  },
  {
   "cell_type": "code",
   "execution_count": 13,
   "id": "1207dba7-16c7-4390-accc-7c8efea35398",
   "metadata": {},
   "outputs": [],
   "source": [
    "from sklearn.feature_extraction.text import TfidfVectorizer\n",
    "from sklearn.metrics.pairwise import cosine_similarity\n",
    "\n",
    "# Vectorize item profiles\n",
    "vectorizer = TfidfVectorizer(max_features=5000, ngram_range=(1, 2), stop_words='english')\n",
    "item_vectors = vectorizer.fit_transform(movies['item_combined'])"
   ]
  },
  {
   "cell_type": "code",
   "execution_count": 14,
   "id": "3662d3b3-78fe-443c-a645-c10cec90bd9b",
   "metadata": {},
   "outputs": [],
   "source": [
    "# Calculate cosine similarity between item profiles\n",
    "item_cosine_sim = cosine_similarity(item_vectors, item_vectors)"
   ]
  },
  {
   "cell_type": "code",
   "execution_count": 15,
   "id": "7e08e3ff-8c9c-4201-8778-ed815007d7fe",
   "metadata": {},
   "outputs": [],
   "source": [
    "# Vectorize user profiles\n",
    "user_vectors = vectorizer.transform(user_profiles['user_combined'])"
   ]
  },
  {
   "cell_type": "markdown",
   "id": "830870f2-cfe6-4e3c-99e9-6690de1ebb36",
   "metadata": {},
   "source": [
    "# Similarity-based recommender system"
   ]
  },
  {
   "cell_type": "code",
   "execution_count": 16,
   "id": "2c467e43-8a32-40d5-90a2-febe76950434",
   "metadata": {},
   "outputs": [],
   "source": [
    "# Create a recommendation function based on item similarity\n",
    "def recommend_similar_items(movie_title, top_n=10):\n",
    "    idx = movies[movies['title'] == movie_title].index[0]\n",
    "    similar_indices = item_cosine_sim[idx].argsort()[-top_n:][::-1]\n",
    "    similar_movies = [movies.iloc[i]['title'] for i in similar_indices]\n",
    "    return similar_movies"
   ]
  },
  {
   "cell_type": "code",
   "execution_count": 17,
   "id": "0d0ffff5-449b-4f62-bc0b-17a8b1b2e28b",
   "metadata": {},
   "outputs": [],
   "source": [
    "# Example: Recommend similar movies to 'Toy Story (1995)'\n",
    "recommended_movies = recommend_similar_items('Toy Story (1995)')"
   ]
  },
  {
   "cell_type": "code",
   "execution_count": 18,
   "id": "cb0bc3a3-889e-488b-83ed-e8c47b9c0f46",
   "metadata": {},
   "outputs": [
    {
     "data": {
      "text/plain": [
       "['Toy Story (1995)',\n",
       " 'Tale of Despereaux, The (2008)',\n",
       " 'Antz (1998)',\n",
       " 'Toy Story 2 (1999)',\n",
       " 'Adventures of Rocky and Bullwinkle, The (2000)',\n",
       " \"Emperor's New Groove, The (2000)\",\n",
       " 'Asterix and the Vikings (Astérix et les Vikings) (2006)',\n",
       " 'The Good Dinosaur (2015)',\n",
       " 'Monsters, Inc. (2001)',\n",
       " 'Moana (2016)']"
      ]
     },
     "execution_count": 18,
     "metadata": {},
     "output_type": "execute_result"
    }
   ],
   "source": [
    "recommended_movies"
   ]
  },
  {
   "cell_type": "code",
   "execution_count": 19,
   "id": "5bd051f3-24e7-4cbc-81e3-197702002c3e",
   "metadata": {},
   "outputs": [
    {
     "data": {
      "text/html": [
       "<div>\n",
       "<style scoped>\n",
       "    .dataframe tbody tr th:only-of-type {\n",
       "        vertical-align: middle;\n",
       "    }\n",
       "\n",
       "    .dataframe tbody tr th {\n",
       "        vertical-align: top;\n",
       "    }\n",
       "\n",
       "    .dataframe thead th {\n",
       "        text-align: right;\n",
       "    }\n",
       "</style>\n",
       "<table border=\"1\" class=\"dataframe\">\n",
       "  <thead>\n",
       "    <tr style=\"text-align: right;\">\n",
       "      <th></th>\n",
       "      <th>Recommended Movies</th>\n",
       "    </tr>\n",
       "  </thead>\n",
       "  <tbody>\n",
       "    <tr>\n",
       "      <th>0</th>\n",
       "      <td>Toy Story (1995)</td>\n",
       "    </tr>\n",
       "    <tr>\n",
       "      <th>1</th>\n",
       "      <td>Tale of Despereaux, The (2008)</td>\n",
       "    </tr>\n",
       "    <tr>\n",
       "      <th>2</th>\n",
       "      <td>Antz (1998)</td>\n",
       "    </tr>\n",
       "    <tr>\n",
       "      <th>3</th>\n",
       "      <td>Toy Story 2 (1999)</td>\n",
       "    </tr>\n",
       "    <tr>\n",
       "      <th>4</th>\n",
       "      <td>Adventures of Rocky and Bullwinkle, The (2000)</td>\n",
       "    </tr>\n",
       "    <tr>\n",
       "      <th>5</th>\n",
       "      <td>Emperor's New Groove, The (2000)</td>\n",
       "    </tr>\n",
       "    <tr>\n",
       "      <th>6</th>\n",
       "      <td>Asterix and the Vikings (Astérix et les Viking...</td>\n",
       "    </tr>\n",
       "    <tr>\n",
       "      <th>7</th>\n",
       "      <td>The Good Dinosaur (2015)</td>\n",
       "    </tr>\n",
       "    <tr>\n",
       "      <th>8</th>\n",
       "      <td>Monsters, Inc. (2001)</td>\n",
       "    </tr>\n",
       "    <tr>\n",
       "      <th>9</th>\n",
       "      <td>Moana (2016)</td>\n",
       "    </tr>\n",
       "  </tbody>\n",
       "</table>\n",
       "</div>"
      ],
      "text/plain": [
       "                                  Recommended Movies\n",
       "0                                   Toy Story (1995)\n",
       "1                     Tale of Despereaux, The (2008)\n",
       "2                                        Antz (1998)\n",
       "3                                 Toy Story 2 (1999)\n",
       "4     Adventures of Rocky and Bullwinkle, The (2000)\n",
       "5                   Emperor's New Groove, The (2000)\n",
       "6  Asterix and the Vikings (Astérix et les Viking...\n",
       "7                           The Good Dinosaur (2015)\n",
       "8                              Monsters, Inc. (2001)\n",
       "9                                       Moana (2016)"
      ]
     },
     "execution_count": 19,
     "metadata": {},
     "output_type": "execute_result"
    }
   ],
   "source": [
    "# Example: Recommend similar movies to 'Toy Story (1995)'\n",
    "recommended_movies = recommend_similar_items('Toy Story (1995)')\n",
    "\n",
    "# Display the recommendations in a table\n",
    "recommendations_df = pd.DataFrame(recommended_movies, columns=['Recommended Movies'])\n",
    "recommendations_df"
   ]
  },
  {
   "cell_type": "markdown",
   "id": "42be2ae2-ff16-4a6e-bef8-33f132af5f6a",
   "metadata": {},
   "source": [
    "# Evaluation"
   ]
  },
  {
   "cell_type": "code",
   "execution_count": 20,
   "id": "5c5a406d-c92e-4830-9672-76143626431c",
   "metadata": {},
   "outputs": [],
   "source": [
    "# Merge seen movies with user_profiles\n",
    "user_seen_movies = user_genre_data.groupby('userId')['title'].apply(set).reset_index()\n",
    "user_seen_movies.rename(columns={'title': 'Seen Movies'}, inplace=True)\n",
    "\n",
    "# Append recommendations to the existing dataframe for each user\n",
    "user_profiles = user_profiles.merge(user_seen_movies, on='userId', how='left')\n"
   ]
  },
  {
   "cell_type": "code",
   "execution_count": 21,
   "id": "d8cfbef6-7096-43ca-a5bc-a8c65523d009",
   "metadata": {},
   "outputs": [],
   "source": [
    "import numpy as np\n",
    "from sklearn.metrics import precision_score, recall_score, f1_score, mean_squared_error\n",
    "\n",
    "def evaluate_movie(movie_title, top_n=10, default_rating=2.5):\n",
    "    recommendations = recommend_similar_items(movie_title, top_n)\n",
    "    \n",
    "    all_precisions, all_recalls, all_f1_scores, all_rmses = [], [], [], []\n",
    "    \n",
    "    for user_id in user_profiles['userId']:\n",
    "        seen_movies = user_profiles[user_profiles['userId'] == user_id]['Seen Movies'].values[0]\n",
    "        y_true = [1 if movie in seen_movies else 0 for movie in movies['title']]\n",
    "        y_pred = [1 if movie in recommendations else 0 for movie in movies['title']]\n",
    "        \n",
    "        # Calculate precision, recall, and f1 score\n",
    "        precision = precision_score(y_true, y_pred)\n",
    "        recall = recall_score(y_true, y_pred)\n",
    "        f1 = f1_score(y_true, y_pred)\n",
    "        \n",
    "        # Append to lists\n",
    "        all_precisions.append(precision)\n",
    "        all_recalls.append(recall)\n",
    "        all_f1_scores.append(f1)\n",
    "        \n",
    "        # RMSE calculation\n",
    "        movie_idx = movies[movies['title'] == movie_title].index[0]\n",
    "        cosine_sim = item_cosine_sim[movie_idx]\n",
    "        user_ratings_pred = [cosine_sim[i] for i in range(len(movies))]\n",
    "        actual_ratings = ratings[ratings['userId'] == user_id]\n",
    "        merged = pd.merge(movies[['movieId', 'title']], actual_ratings, on='movieId', how='left')\n",
    "        merged = merged.copy()\n",
    "        merged['rating'] = merged['rating'].fillna(default_rating)\n",
    "        \n",
    "        y_true_rmse = merged['rating'].values\n",
    "        y_pred_rmse = user_ratings_pred[:len(y_true_rmse)]\n",
    "        rmse = np.sqrt(mean_squared_error(y_true_rmse, y_pred_rmse))\n",
    "        \n",
    "        all_rmses.append(rmse)\n",
    "    \n",
    "    average_cluster_precision = np.mean(all_precisions)\n",
    "    average_cluster_recall = np.mean(all_recalls)\n",
    "    average_cluster_f1 = np.mean(all_f1_scores)\n",
    "    average_cluster_rmse = np.mean(all_rmses)\n",
    "    \n",
    "    return average_cluster_precision, average_cluster_recall, average_cluster_f1, average_cluster_rmse\n"
   ]
  },
  {
   "cell_type": "markdown",
   "id": "6faa29bc-e69a-4a58-b9e2-810b04ba43f0",
   "metadata": {},
   "source": [
    "### Evaluate for 1 example \"Toy Story (1995)\""
   ]
  },
  {
   "cell_type": "code",
   "execution_count": 22,
   "id": "ffb9fbfc-3b51-429b-a35f-98adc65a925f",
   "metadata": {},
   "outputs": [
    {
     "name": "stdout",
     "output_type": "stream",
     "text": [
      "Similarity-based System for Toy Story (1995):\n",
      "Precision: 0.06232558139534884\n",
      "Recall: 0.005166273345234001\n",
      "F1-Score: 0.008592430775734254\n",
      "RMSE: 2.4365549333487886\n"
     ]
    }
   ],
   "source": [
    "# Calculate metrics for \"Toy Story (1995)\"\n",
    "movie_title = \"Toy Story (1995)\"\n",
    "precision, recall, f1, rmse = evaluate_movie(movie_title)\n",
    "print(f'Similarity-based System for {movie_title}:')\n",
    "print(f'Precision: {precision}')\n",
    "print(f'Recall: {recall}')\n",
    "print(f'F1-Score: {f1}')\n",
    "print(f'RMSE: {rmse}')\n"
   ]
  },
  {
   "cell_type": "markdown",
   "id": "7f03fc1f-2352-4906-ade4-209a74d49d36",
   "metadata": {},
   "source": [
    "### Evaluate all recommendations"
   ]
  },
  {
   "cell_type": "code",
   "execution_count": 23,
   "id": "275efa93-872c-442d-90d5-ecfb27ac3807",
   "metadata": {},
   "outputs": [
    {
     "name": "stdout",
     "output_type": "stream",
     "text": [
      "Time for single evaluation: 12.40 seconds\n",
      "Estimated total time: 2013.31 minutes\n"
     ]
    }
   ],
   "source": [
    "import time\n",
    "\n",
    "# Measure the time for a single evaluation\n",
    "start_time = time.time()\n",
    "_ = evaluate_movie('Toy Story (1995)')  # Use a sample movie title for the test\n",
    "single_evaluation_time = time.time() - start_time\n",
    "print(f\"Time for single evaluation: {single_evaluation_time:.2f} seconds\")\n",
    "\n",
    "# Estimate total time\n",
    "total_movies = len(movies['title'])\n",
    "estimated_total_time = single_evaluation_time * total_movies\n",
    "print(f\"Estimated total time: {estimated_total_time/60:.2f} minutes\")\n"
   ]
  },
  {
   "cell_type": "markdown",
   "id": "4b5e7f3b-880f-483a-9db6-5fbb5c5c523a",
   "metadata": {},
   "source": [
    "This takes too long. So we will reduce the sample."
   ]
  },
  {
   "cell_type": "code",
   "execution_count": 31,
   "id": "54b309b8-82ff-4763-adcd-f31e6902e407",
   "metadata": {},
   "outputs": [
    {
     "name": "stdout",
     "output_type": "stream",
     "text": [
      "Similarity-based System for sampled movies:\n",
      "Average Precision: 0.011745607042595226\n",
      "Average Recall: 0.0007486621494222052\n",
      "Average F1-Score: 0.001242082814169579\n",
      "Average RMSE: 2.4122537452770247\n",
      "Total execution time: 117.72 minutes\n"
     ]
    }
   ],
   "source": [
    "import random\n",
    "import time\n",
    "\n",
    "# Evaluate a sample of 610 movies\n",
    "sample_size = 610  # Sample size\n",
    "sampled_movies = random.sample(list(movies['title']), sample_size)\n",
    "\n",
    "start_time = time.time()\n",
    "\n",
    "top_n = 10\n",
    "all_precisions, all_recalls, all_f1_scores, all_rmses = [], [], [], []\n",
    "\n",
    "for movie_title in sampled_movies:\n",
    "    precision, recall, f1, rmse = evaluate_movie(movie_title, top_n)\n",
    "    all_precisions.append(precision)\n",
    "    all_recalls.append(recall)\n",
    "    all_f1_scores.append(f1)\n",
    "    all_rmses.append(rmse)\n",
    "\n",
    "# Average the results\n",
    "average_precision = np.mean(all_precisions)\n",
    "average_recall = np.mean(all_recalls)\n",
    "average_f1 = np.mean(all_f1_scores)\n",
    "average_rmse = np.mean(all_rmses)\n",
    "\n",
    "# Calculate total execution time\n",
    "total_time = time.time() - start_time\n",
    "\n",
    "# Display metrics\n",
    "print(f\"Similarity-based System for sampled movies:\")\n",
    "print(f\"Average Precision: {average_precision}\")\n",
    "print(f\"Average Recall: {average_recall}\")\n",
    "print(f\"Average F1-Score: {average_f1}\")\n",
    "print(f\"Average RMSE: {average_rmse}\")\n",
    "\n",
    "print(f\"Total execution time: {total_time/60:.2f} minutes\")"
   ]
  },
  {
   "cell_type": "code",
   "execution_count": 30,
   "id": "f304cfc1-c61d-4cd2-8ca8-90cb486f4af5",
   "metadata": {},
   "outputs": [],
   "source": [
    "# from joblib import Parallel, delayed\n",
    "\n",
    "# # Evaluate all recommendations in parallel\n",
    "# top_n = 10\n",
    "# results = Parallel(n_jobs=-1)(delayed(evaluate_movie)(movie_title, top_n) for movie_title in movies['title'])\n",
    "\n",
    "# # Extract metrics from results\n",
    "# all_precisions = [res[0] for res in results]\n",
    "# all_recalls = [res[1] for res in results]\n",
    "# all_f1_scores = [res[2] for res in results]\n",
    "# all_rmses = [res[3] for res in results]\n",
    "\n",
    "# # Average the results\n",
    "# average_precision = np.mean(all_precisions)\n",
    "# average_recall = np.mean(all_recalls)\n",
    "# average_f1 = np.mean(all_f1_scores)\n",
    "# average_rmse = np.mean(all_rmses)\n",
    "\n",
    "# # Calculate metrics for all movies\n",
    "# print(f\"Similarity-based System for all movies:\")\n",
    "# print(f\"Average Precision: {average_precision}\")\n",
    "# print(f\"Average Recall: {average_recall}\")\n",
    "# print(f\"Average F1-Score: {average_f1}\")\n",
    "# print(f\"Average RMSE: {average_rmse}\")\n"
   ]
  },
  {
   "cell_type": "markdown",
   "id": "a6bdef9f-86cb-44fa-b8bc-c4fe5023c1bb",
   "metadata": {},
   "source": [
    "# Average Number of New/Unseen Courses Recommended Per User"
   ]
  },
  {
   "cell_type": "code",
   "execution_count": 26,
   "id": "2dcb75bf-98be-408a-93e8-9dadd6bf94dc",
   "metadata": {},
   "outputs": [
    {
     "name": "stdout",
     "output_type": "stream",
     "text": [
      "Average number of new/unseen courses recommended per user: 470.53\n"
     ]
    }
   ],
   "source": [
    "def count_new_recommendations(user_id, top_n=10):\n",
    "    seen_movies = user_profiles[user_profiles['userId'] == user_id]['Seen Movies'].values[0]\n",
    "    recommended_movies = set()  # Use a set to avoid duplicates\n",
    "    for movie in seen_movies:\n",
    "        similar_movies = recommend_similar_items(movie, top_n)\n",
    "        recommended_movies.update(similar_movies)\n",
    "    new_recommendations = [movie for movie in recommended_movies if movie not in seen_movies]\n",
    "    return len(new_recommendations)\n",
    "\n",
    "# Calculate new/unseen recommendations for each user\n",
    "user_profiles['new_recommendations'] = user_profiles['userId'].apply(count_new_recommendations)\n",
    "average_new_recommendations = user_profiles['new_recommendations'].mean()\n",
    "print(f\"Average number of new/unseen courses recommended per user: {average_new_recommendations:.2f}\")\n"
   ]
  },
  {
   "cell_type": "markdown",
   "id": "cdd58e95-a490-4f15-9de3-2a49af9bfc54",
   "metadata": {},
   "source": [
    "# Top 10 Most Frequently Recommended"
   ]
  },
  {
   "cell_type": "code",
   "execution_count": 27,
   "id": "bcbf67bb-d0c4-4f96-a77f-6bcb5f59ea98",
   "metadata": {},
   "outputs": [
    {
     "data": {
      "text/html": [
       "<div>\n",
       "<style scoped>\n",
       "    .dataframe tbody tr th:only-of-type {\n",
       "        vertical-align: middle;\n",
       "    }\n",
       "\n",
       "    .dataframe tbody tr th {\n",
       "        vertical-align: top;\n",
       "    }\n",
       "\n",
       "    .dataframe thead th {\n",
       "        text-align: right;\n",
       "    }\n",
       "</style>\n",
       "<table border=\"1\" class=\"dataframe\">\n",
       "  <thead>\n",
       "    <tr style=\"text-align: right;\">\n",
       "      <th></th>\n",
       "      <th>Movie</th>\n",
       "      <th>Frequency</th>\n",
       "    </tr>\n",
       "  </thead>\n",
       "  <tbody>\n",
       "    <tr>\n",
       "      <th>0</th>\n",
       "      <td>Monsieur Ibrahim (Monsieur Ibrahim et les fleu...</td>\n",
       "      <td>2131</td>\n",
       "    </tr>\n",
       "    <tr>\n",
       "      <th>1</th>\n",
       "      <td>Mudge Boy, The (2003)</td>\n",
       "      <td>2131</td>\n",
       "    </tr>\n",
       "    <tr>\n",
       "      <th>2</th>\n",
       "      <td>Sarafina! (1992)</td>\n",
       "      <td>2131</td>\n",
       "    </tr>\n",
       "    <tr>\n",
       "      <th>3</th>\n",
       "      <td>Man Who Cried, The (2000)</td>\n",
       "      <td>2131</td>\n",
       "    </tr>\n",
       "    <tr>\n",
       "      <th>4</th>\n",
       "      <td>Love &amp; Mercy (2014)</td>\n",
       "      <td>2131</td>\n",
       "    </tr>\n",
       "    <tr>\n",
       "      <th>5</th>\n",
       "      <td>Ned Kelly (2003)</td>\n",
       "      <td>2131</td>\n",
       "    </tr>\n",
       "    <tr>\n",
       "      <th>6</th>\n",
       "      <td>Last Dance (1996)</td>\n",
       "      <td>2131</td>\n",
       "    </tr>\n",
       "    <tr>\n",
       "      <th>7</th>\n",
       "      <td>Way Back, The (2010)</td>\n",
       "      <td>2131</td>\n",
       "    </tr>\n",
       "    <tr>\n",
       "      <th>8</th>\n",
       "      <td>All or Nothing (2002)</td>\n",
       "      <td>2131</td>\n",
       "    </tr>\n",
       "    <tr>\n",
       "      <th>9</th>\n",
       "      <td>Ice Castles (1978)</td>\n",
       "      <td>2131</td>\n",
       "    </tr>\n",
       "  </tbody>\n",
       "</table>\n",
       "</div>"
      ],
      "text/plain": [
       "                                               Movie  Frequency\n",
       "0  Monsieur Ibrahim (Monsieur Ibrahim et les fleu...       2131\n",
       "1                              Mudge Boy, The (2003)       2131\n",
       "2                                   Sarafina! (1992)       2131\n",
       "3                          Man Who Cried, The (2000)       2131\n",
       "4                                Love & Mercy (2014)       2131\n",
       "5                                   Ned Kelly (2003)       2131\n",
       "6                                  Last Dance (1996)       2131\n",
       "7                               Way Back, The (2010)       2131\n",
       "8                              All or Nothing (2002)       2131\n",
       "9                                 Ice Castles (1978)       2131"
      ]
     },
     "execution_count": 27,
     "metadata": {},
     "output_type": "execute_result"
    }
   ],
   "source": [
    "from collections import Counter\n",
    "\n",
    "# Generate recommendations for each user and collect them\n",
    "all_recommendations = []\n",
    "for user_id in user_profiles['userId'].unique():\n",
    "    seen_movies = user_profiles[user_profiles['userId'] == user_id]['Seen Movies'].values[0]\n",
    "    for movie in seen_movies:\n",
    "        all_recommendations.extend(recommend_similar_items(movie, top_n=10))\n",
    "\n",
    "# Count frequencies of each recommended movie\n",
    "recommendation_counts = Counter(all_recommendations)\n",
    "\n",
    "# Get the top 10 most commonly recommended movies\n",
    "top_10_recommendations = recommendation_counts.most_common(10)\n",
    "top_10_recommendations_df = pd.DataFrame(top_10_recommendations, columns=['Movie', 'Frequency'])\n",
    "\n",
    "# Display the top 10 recommendations as a table\n",
    "top_10_recommendations_df\n"
   ]
  }
 ],
 "metadata": {
  "kernelspec": {
   "display_name": "Python 3 (ipykernel)",
   "language": "python",
   "name": "python3"
  },
  "language_info": {
   "codemirror_mode": {
    "name": "ipython",
    "version": 3
   },
   "file_extension": ".py",
   "mimetype": "text/x-python",
   "name": "python",
   "nbconvert_exporter": "python",
   "pygments_lexer": "ipython3",
   "version": "3.10.14"
  }
 },
 "nbformat": 4,
 "nbformat_minor": 5
}
