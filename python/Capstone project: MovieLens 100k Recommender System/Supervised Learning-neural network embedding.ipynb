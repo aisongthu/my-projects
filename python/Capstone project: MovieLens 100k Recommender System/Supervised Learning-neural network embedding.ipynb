{
 "cells": [
  {
   "cell_type": "markdown",
   "id": "69cfdec1-9a87-41b0-865d-8044c9f288ea",
   "metadata": {},
   "source": [
    "# Data Cleaning"
   ]
  },
  {
   "cell_type": "code",
   "execution_count": 1,
   "id": "49c70021-c35b-4436-92e9-ae22669270d0",
   "metadata": {},
   "outputs": [
    {
     "name": "stdout",
     "output_type": "stream",
     "text": [
      "Warning: Looks like you're using an outdated `kagglehub` version, please consider updating (latest version: 0.3.3)\n"
     ]
    }
   ],
   "source": [
    "import kagglehub\n",
    "import os\n",
    "import pandas as pd\n",
    "\n",
    "# Download latest version\n",
    "path = kagglehub.dataset_download(\"abhikjha/movielens-100k\")\n",
    "subdir_path = os.path.join(path, \"ml-latest-small\")\n",
    "\n",
    "# Load the data into DataFrames\n",
    "movies = pd.read_csv(os.path.join(subdir_path, \"movies.csv\"))\n",
    "ratings = pd.read_csv(os.path.join(subdir_path, \"ratings.csv\"))\n",
    "tags = pd.read_csv(os.path.join(subdir_path, \"tags.csv\"))\n",
    "\n",
    "# Drop the 'timestamp' column\n",
    "ratings = ratings.drop(columns=['timestamp'])\n",
    "tags = tags.drop(columns=['timestamp'])\n"
   ]
  },
  {
   "cell_type": "markdown",
   "id": "8ce0975e-faaf-4406-9dad-19d2458119db",
   "metadata": {},
   "source": [
    "# Feature Engineering"
   ]
  },
  {
   "cell_type": "code",
   "execution_count": 2,
   "id": "cbbb75c1-204d-4a1a-8dae-4c1276e90238",
   "metadata": {},
   "outputs": [],
   "source": [
    "from sklearn.feature_extraction.text import TfidfVectorizer\n",
    "from sklearn.metrics.pairwise import cosine_similarity\n",
    "\n",
    "# Split genres into individual columns\n",
    "genres = movies['genres'].str.get_dummies(sep='|')\n",
    "movies = pd.concat([movies, genres], axis=1)\n",
    "\n",
    "# Drop the '(no genres listed)' column if it exists\n",
    "if '(no genres listed)' in movies.columns:\n",
    "    movies = movies.drop(columns=['(no genres listed)'])\n",
    "\n",
    "# Merge ratings with movies to include genres\n",
    "user_genre_data = pd.merge(ratings, movies, on='movieId')\n",
    "\n",
    "# Ensure columns exist for genres\n",
    "genres_cols = [col for col in genres.columns if col in user_genre_data.columns]\n",
    "\n",
    "# Calculate average rating per genre for each user\n",
    "user_genre_avg = user_genre_data.groupby('userId')[genres_cols].mean().reset_index()\n",
    "\n",
    "# Merge tags with movies\n",
    "user_tags_data = pd.merge(tags, movies, on='movieId')\n",
    "\n",
    "# Aggregate tags for each user\n",
    "user_tags_agg = user_tags_data.groupby('userId')['tag'].apply(lambda x: ' '.join(x)).reset_index()\n",
    "\n",
    "# Merge average ratings with aggregated tags\n",
    "user_profiles = pd.merge(user_genre_avg, user_tags_agg, on='userId', how='left')\n",
    "user_profiles['tag'] = user_profiles['tag'].fillna('')\n",
    "\n",
    "# Combine genre averages and tags into a single text field\n",
    "user_profiles['user_combined'] = user_profiles[genres_cols].apply(lambda x: ' '.join(x.index[x > 0]), axis=1) + ' ' + user_profiles['tag']\n",
    "\n",
    "# Remove duplicates\n",
    "user_profiles = user_profiles.drop_duplicates(subset=['user_combined'])\n",
    "\n",
    "# Create item profiles by combining relevant features\n",
    "movies['item_combined'] = movies['genres']\n",
    "\n",
    "# Vectorize item profiles\n",
    "vectorizer = TfidfVectorizer(max_features=5000, ngram_range=(1, 2), stop_words='english')\n",
    "item_vectors = vectorizer.fit_transform(movies['item_combined'])\n",
    "\n",
    "# Vectorize user profiles\n",
    "user_vectors = vectorizer.transform(user_profiles['user_combined'])\n"
   ]
  },
  {
   "cell_type": "markdown",
   "id": "bb16c2a1-af1e-43cb-8c16-f90532c70885",
   "metadata": {},
   "source": [
    "# Neural Network Embedding-based recommender system"
   ]
  },
  {
   "cell_type": "code",
   "execution_count": 3,
   "id": "b0dcafb9-15d9-48e4-be91-46e490a51fa2",
   "metadata": {},
   "outputs": [],
   "source": [
    "import tensorflow as tf\n",
    "import numpy as np\n",
    "import random\n",
    "\n",
    "seed_value = 42\n",
    "np.random.seed(seed_value)\n",
    "tf.random.set_seed(seed_value)\n",
    "random.seed(seed_value)\n"
   ]
  },
  {
   "cell_type": "code",
   "execution_count": 4,
   "id": "28efb3d9-3476-4c9b-aaec-00289f1212ea",
   "metadata": {},
   "outputs": [
    {
     "name": "stdout",
     "output_type": "stream",
     "text": [
      "Epoch 1/5\n",
      "\u001b[1m3152/3152\u001b[0m \u001b[32m━━━━━━━━━━━━━━━━━━━━\u001b[0m\u001b[37m\u001b[0m \u001b[1m5s\u001b[0m 1ms/step - loss: 11.6982\n",
      "Epoch 2/5\n",
      "\u001b[1m3152/3152\u001b[0m \u001b[32m━━━━━━━━━━━━━━━━━━━━\u001b[0m\u001b[37m\u001b[0m \u001b[1m4s\u001b[0m 1ms/step - loss: 2.4568\n",
      "Epoch 3/5\n",
      "\u001b[1m3152/3152\u001b[0m \u001b[32m━━━━━━━━━━━━━━━━━━━━\u001b[0m\u001b[37m\u001b[0m \u001b[1m4s\u001b[0m 1ms/step - loss: 1.3300\n",
      "Epoch 4/5\n",
      "\u001b[1m3152/3152\u001b[0m \u001b[32m━━━━━━━━━━━━━━━━━━━━\u001b[0m\u001b[37m\u001b[0m \u001b[1m4s\u001b[0m 1ms/step - loss: 1.0129\n",
      "Epoch 5/5\n",
      "\u001b[1m3152/3152\u001b[0m \u001b[32m━━━━━━━━━━━━━━━━━━━━\u001b[0m\u001b[37m\u001b[0m \u001b[1m6s\u001b[0m 2ms/step - loss: 0.8732\n"
     ]
    }
   ],
   "source": [
    "from tensorflow.keras.models import Model\n",
    "from tensorflow.keras.layers import Input, Embedding, Flatten, Dot\n",
    "\n",
    "# Prepare data for embedding model\n",
    "user_ids = ratings['userId'].unique()\n",
    "movie_ids = ratings['movieId'].unique()\n",
    "\n",
    "user_id_map = {user_id: idx for idx, user_id in enumerate(user_ids)}\n",
    "movie_id_map = {movie_id: idx for idx, movie_id in enumerate(movie_ids)}\n",
    "\n",
    "ratings['userId_mapped'] = ratings['userId'].map(user_id_map)\n",
    "ratings['movieId_mapped'] = ratings['movieId'].map(movie_id_map)\n",
    "\n",
    "# Build embedding model\n",
    "user_input = Input(shape=(1,))\n",
    "movie_input = Input(shape=(1,))\n",
    "\n",
    "user_embedding = Embedding(len(user_ids), 20)(user_input)\n",
    "movie_embedding = Embedding(len(movie_ids), 20)(movie_input)\n",
    "\n",
    "user_vec = Flatten()(user_embedding)\n",
    "movie_vec = Flatten()(movie_embedding)\n",
    "\n",
    "dot_product = Dot(axes=1)([user_vec, movie_vec])\n",
    "\n",
    "model = Model(inputs=[user_input, movie_input], outputs=dot_product)\n",
    "model.compile(optimizer='adam', loss='mean_squared_error')\n",
    "\n",
    "# Train the model\n",
    "model.fit([ratings['userId_mapped'], ratings['movieId_mapped']], ratings['rating'], epochs=5, verbose=1)\n",
    "\n",
    "# Function to recommend items based on neural network embeddings\n",
    "def nn_recommend(user_id, top_n=10):\n",
    "    user_idx = user_id_map[user_id]\n",
    "    user_vector = model.get_layer('embedding').get_weights()[0][user_idx]\n",
    "    scores = user_vector.dot(model.get_layer('embedding_1').get_weights()[0].T)\n",
    "    top_indices = scores.argsort()[-top_n:][::-1]\n",
    "    recommended_movies = movies.iloc[top_indices]['title'].tolist()\n",
    "    return recommended_movies\n"
   ]
  },
  {
   "cell_type": "code",
   "execution_count": 5,
   "id": "eb590667-27ae-4418-b90b-ca7addadf85a",
   "metadata": {},
   "outputs": [
    {
     "data": {
      "text/plain": [
       "['Affair of the Necklace, The (2001)',\n",
       " 'Harry and the Hendersons (1987)',\n",
       " 'Hiding Out (1987)',\n",
       " 'Safety of Objects, The (2001)',\n",
       " 'Julien Donkey-Boy (1999)',\n",
       " 'Lonely Are the Brave (1962)',\n",
       " 'Pajama Game, The (1957)',\n",
       " 'JFK (1991)',\n",
       " 'Acid House, The (1998)',\n",
       " 'Pumpkinhead (1988)']"
      ]
     },
     "execution_count": 5,
     "metadata": {},
     "output_type": "execute_result"
    }
   ],
   "source": [
    "nn_recommend(user_id=1, top_n=10)"
   ]
  },
  {
   "cell_type": "code",
   "execution_count": 6,
   "id": "763e416e-a863-43f4-aefb-80145dbf45a4",
   "metadata": {},
   "outputs": [
    {
     "data": {
      "text/html": [
       "<div>\n",
       "<style scoped>\n",
       "    .dataframe tbody tr th:only-of-type {\n",
       "        vertical-align: middle;\n",
       "    }\n",
       "\n",
       "    .dataframe tbody tr th {\n",
       "        vertical-align: top;\n",
       "    }\n",
       "\n",
       "    .dataframe thead th {\n",
       "        text-align: right;\n",
       "    }\n",
       "</style>\n",
       "<table border=\"1\" class=\"dataframe\">\n",
       "  <thead>\n",
       "    <tr style=\"text-align: right;\">\n",
       "      <th></th>\n",
       "      <th>Recommended Movies</th>\n",
       "    </tr>\n",
       "  </thead>\n",
       "  <tbody>\n",
       "    <tr>\n",
       "      <th>1</th>\n",
       "      <td>Affair of the Necklace, The (2001)</td>\n",
       "    </tr>\n",
       "    <tr>\n",
       "      <th>2</th>\n",
       "      <td>Harry and the Hendersons (1987)</td>\n",
       "    </tr>\n",
       "    <tr>\n",
       "      <th>3</th>\n",
       "      <td>Hiding Out (1987)</td>\n",
       "    </tr>\n",
       "    <tr>\n",
       "      <th>4</th>\n",
       "      <td>Safety of Objects, The (2001)</td>\n",
       "    </tr>\n",
       "    <tr>\n",
       "      <th>5</th>\n",
       "      <td>Julien Donkey-Boy (1999)</td>\n",
       "    </tr>\n",
       "    <tr>\n",
       "      <th>6</th>\n",
       "      <td>Lonely Are the Brave (1962)</td>\n",
       "    </tr>\n",
       "    <tr>\n",
       "      <th>7</th>\n",
       "      <td>Pajama Game, The (1957)</td>\n",
       "    </tr>\n",
       "    <tr>\n",
       "      <th>8</th>\n",
       "      <td>JFK (1991)</td>\n",
       "    </tr>\n",
       "    <tr>\n",
       "      <th>9</th>\n",
       "      <td>Acid House, The (1998)</td>\n",
       "    </tr>\n",
       "    <tr>\n",
       "      <th>10</th>\n",
       "      <td>Pumpkinhead (1988)</td>\n",
       "    </tr>\n",
       "  </tbody>\n",
       "</table>\n",
       "</div>"
      ],
      "text/plain": [
       "                    Recommended Movies\n",
       "1   Affair of the Necklace, The (2001)\n",
       "2      Harry and the Hendersons (1987)\n",
       "3                    Hiding Out (1987)\n",
       "4        Safety of Objects, The (2001)\n",
       "5             Julien Donkey-Boy (1999)\n",
       "6          Lonely Are the Brave (1962)\n",
       "7              Pajama Game, The (1957)\n",
       "8                           JFK (1991)\n",
       "9               Acid House, The (1998)\n",
       "10                  Pumpkinhead (1988)"
      ]
     },
     "execution_count": 6,
     "metadata": {},
     "output_type": "execute_result"
    }
   ],
   "source": [
    "# Recommend movies for a specific user using Neural Network Embeddings\n",
    "user_id = 1\n",
    "recommended_movies = nn_recommend(user_id, top_n=10)\n",
    "\n",
    "# Create a DataFrame to display the recommendations as a table\n",
    "recommendations_df = pd.DataFrame(recommended_movies, columns=['Recommended Movies'])\n",
    "recommendations_df.index = range(1, len(recommendations_df) + 1)  # Add ranking\n",
    "\n",
    "# Display the DataFrame\n",
    "recommendations_df\n"
   ]
  },
  {
   "cell_type": "markdown",
   "id": "d534bd07-dd8a-41f7-aeda-58816bac566c",
   "metadata": {},
   "source": [
    "# Evaluation"
   ]
  },
  {
   "cell_type": "code",
   "execution_count": 7,
   "id": "9552195a-0c7c-49f6-ace6-74295ce69faf",
   "metadata": {},
   "outputs": [],
   "source": [
    "# Merge seen movies with user_profiles\n",
    "user_seen_movies = user_genre_data.groupby('userId')['title'].apply(set).reset_index()\n",
    "user_seen_movies.rename(columns={'title': 'Seen Movies'}, inplace=True)\n",
    "\n",
    "# Append recommendations to the existing dataframe for each user\n",
    "user_profiles = user_profiles.merge(user_seen_movies, on='userId', how='left')\n"
   ]
  },
  {
   "cell_type": "code",
   "execution_count": 8,
   "id": "ad387889-1606-4c13-93af-0856d8b025d6",
   "metadata": {},
   "outputs": [],
   "source": [
    "import numpy as np\n",
    "from sklearn.metrics import precision_score, recall_score, f1_score, mean_squared_error\n",
    "\n",
    "# Function to calculate evaluation metrics\n",
    "def evaluate_nn(user_id, top_n=10):\n",
    "    recommended_movies = nn_recommend(user_id, top_n)\n",
    "    seen_movies = user_profiles[user_profiles['userId'] == user_id]['Seen Movies'].values[0]\n",
    "    \n",
    "    # Flatten lists\n",
    "    y_true = list(seen_movies)\n",
    "    y_pred = recommended_movies\n",
    "    \n",
    "    # Convert lists to sets to find common elements\n",
    "    common_elements = set(y_true).intersection(set(y_pred))\n",
    "    y_true_flat = list(common_elements)\n",
    "    y_pred_flat = y_true_flat  # aligning lengths for a fair comparison\n",
    "\n",
    "    # Calculate precision, recall, and F1-score\n",
    "    precision = precision_score([1]*len(y_true_flat), [1]*len(y_pred_flat), zero_division=0)\n",
    "    recall = recall_score([1]*len(y_true_flat), [1]*len(y_pred_flat), zero_division=0)\n",
    "    f1 = f1_score([1]*len(y_true_flat), [1]*len(y_pred_flat), zero_division=0)\n",
    "\n",
    "    # Actual ratings\n",
    "    actual_ratings = ratings[ratings['userId'] == user_id]\n",
    "    \n",
    "    # Predicted ratings\n",
    "    user_idx = user_id_map[user_id]\n",
    "    user_vector = model.get_layer('embedding').get_weights()[0][user_idx]\n",
    "    predictions = user_vector.dot(model.get_layer('embedding_1').get_weights()[0].T)\n",
    "    \n",
    "    # Align predictions with actual ratings\n",
    "    actual_ratings = actual_ratings.set_index('movieId')\n",
    "    actual_ratings['predicted_rating'] = actual_ratings.index.map(lambda x: predictions[movie_id_map[x]] if x in movie_id_map else np.nan)\n",
    "    actual_ratings = actual_ratings.dropna()\n",
    "    \n",
    "    # Calculate RMSE\n",
    "    rmse = np.sqrt(mean_squared_error(actual_ratings['rating'], actual_ratings['predicted_rating']))\n",
    "    \n",
    "    return precision, recall, f1, rmse\n"
   ]
  },
  {
   "cell_type": "markdown",
   "id": "bc17552b-17cd-4767-b666-24c7e72886c8",
   "metadata": {},
   "source": [
    "### Evaluate for 1 user"
   ]
  },
  {
   "cell_type": "code",
   "execution_count": 9,
   "id": "fe9da5ee-6b74-44e2-a55e-95ec9fdb37f2",
   "metadata": {},
   "outputs": [
    {
     "name": "stdout",
     "output_type": "stream",
     "text": [
      "Neural Network Embedding-based System for user 1:\n",
      "Precision: 1.0\n",
      "Recall: 1.0\n",
      "F1-Score: 0.7361418801992113\n",
      "RMSE: 1.0\n"
     ]
    }
   ],
   "source": [
    "rmse, precision, recall, f1 = evaluate_nn(user_id=1)\n",
    "print(f\"Neural Network Embedding-based System for user {user_id}:\")\n",
    "print(f\"Precision: {precision}\")\n",
    "print(f\"Recall: {recall}\")\n",
    "print(f\"F1-Score: {f1}\")\n",
    "print(f\"RMSE: {rmse}\")"
   ]
  },
  {
   "cell_type": "markdown",
   "id": "9d51719b-c56a-4d5b-a470-c13a214dd9f2",
   "metadata": {},
   "source": [
    "### Evaluate for all users"
   ]
  },
  {
   "cell_type": "code",
   "execution_count": 10,
   "id": "8983cbed-ba6e-46dd-9f7a-8e3603329924",
   "metadata": {},
   "outputs": [
    {
     "name": "stdout",
     "output_type": "stream",
     "text": [
      "Neural Network Embedding-based System for all users:\n",
      "Average Precision: 0.07906976744186046\n",
      "Average Recall: 0.07906976744186046\n",
      "Average F1-Score: 0.07906976744186046\n",
      "Average RMSE: 0.27439262776076284\n"
     ]
    }
   ],
   "source": [
    "# Calculate metrics for all users\n",
    "user_ids = user_profiles['userId'].unique()\n",
    "metrics = [evaluate_nn(user_id) for user_id in user_ids]\n",
    "rmses = [evaluate_nn(user_id) for user_id in user_profiles['userId'].unique()]\n",
    "\n",
    "# Average the results\n",
    "average_precision = np.mean([m[0] for m in metrics])\n",
    "average_recall = np.mean([m[1] for m in metrics])\n",
    "average_f1 = np.mean([m[2] for m in metrics])\n",
    "average_rmse = np.mean(rmses)\n",
    "\n",
    "print(f\"Neural Network Embedding-based System for all users:\")\n",
    "print(f\"Average Precision: {average_precision}\")\n",
    "print(f\"Average Recall: {average_recall}\")\n",
    "print(f\"Average F1-Score: {average_f1}\")\n",
    "print(f\"Average RMSE: {average_rmse}\")\n"
   ]
  },
  {
   "cell_type": "markdown",
   "id": "a72ba700-c329-4233-bb9e-0a35105dad6c",
   "metadata": {},
   "source": [
    "# Average number of new/unseen courses recommended per user"
   ]
  },
  {
   "cell_type": "code",
   "execution_count": 11,
   "id": "b68e604c-5068-4b07-ba56-9af501bc28b3",
   "metadata": {},
   "outputs": [
    {
     "name": "stdout",
     "output_type": "stream",
     "text": [
      "Average number of new/unseen movies recommended per user: 9.902325581395349\n"
     ]
    }
   ],
   "source": [
    "def count_new_recommendations(row):\n",
    "    seen_movies = row['Seen Movies']\n",
    "    recommended_movies = set(nn_recommend(row['userId'], top_n=10))\n",
    "    new_recommendations = recommended_movies - seen_movies\n",
    "    return len(new_recommendations)\n",
    "\n",
    "# Calculate new recommendations for each user\n",
    "user_profiles['new_recommendations'] = user_profiles.apply(count_new_recommendations, axis=1)\n",
    "\n",
    "# Compute the average number of new/unseen recommendations per user\n",
    "average_new_recommendations = user_profiles['new_recommendations'].mean()\n",
    "print(f\"Average number of new/unseen movies recommended per user: {average_new_recommendations}\")\n"
   ]
  },
  {
   "cell_type": "markdown",
   "id": "52a318e9-76a2-4284-a2eb-d5bf3283d047",
   "metadata": {},
   "source": [
    "# Top 10 most commonly recommended"
   ]
  },
  {
   "cell_type": "code",
   "execution_count": 12,
   "id": "5e8b84d2-6391-4f95-bcd8-551e0f092aad",
   "metadata": {},
   "outputs": [
    {
     "data": {
      "text/html": [
       "<div>\n",
       "<style scoped>\n",
       "    .dataframe tbody tr th:only-of-type {\n",
       "        vertical-align: middle;\n",
       "    }\n",
       "\n",
       "    .dataframe tbody tr th {\n",
       "        vertical-align: top;\n",
       "    }\n",
       "\n",
       "    .dataframe thead th {\n",
       "        text-align: right;\n",
       "    }\n",
       "</style>\n",
       "<table border=\"1\" class=\"dataframe\">\n",
       "  <thead>\n",
       "    <tr style=\"text-align: right;\">\n",
       "      <th></th>\n",
       "      <th>Movie</th>\n",
       "      <th>Frequency</th>\n",
       "    </tr>\n",
       "  </thead>\n",
       "  <tbody>\n",
       "    <tr>\n",
       "      <th>0</th>\n",
       "      <td>Pajama Game, The (1957)</td>\n",
       "      <td>208</td>\n",
       "    </tr>\n",
       "    <tr>\n",
       "      <th>1</th>\n",
       "      <td>Safety of Objects, The (2001)</td>\n",
       "      <td>207</td>\n",
       "    </tr>\n",
       "    <tr>\n",
       "      <th>2</th>\n",
       "      <td>Lonely Are the Brave (1962)</td>\n",
       "      <td>207</td>\n",
       "    </tr>\n",
       "    <tr>\n",
       "      <th>3</th>\n",
       "      <td>Harry and the Hendersons (1987)</td>\n",
       "      <td>204</td>\n",
       "    </tr>\n",
       "    <tr>\n",
       "      <th>4</th>\n",
       "      <td>Affair of the Necklace, The (2001)</td>\n",
       "      <td>203</td>\n",
       "    </tr>\n",
       "    <tr>\n",
       "      <th>5</th>\n",
       "      <td>JFK (1991)</td>\n",
       "      <td>202</td>\n",
       "    </tr>\n",
       "    <tr>\n",
       "      <th>6</th>\n",
       "      <td>Julien Donkey-Boy (1999)</td>\n",
       "      <td>195</td>\n",
       "    </tr>\n",
       "    <tr>\n",
       "      <th>7</th>\n",
       "      <td>Acid House, The (1998)</td>\n",
       "      <td>193</td>\n",
       "    </tr>\n",
       "    <tr>\n",
       "      <th>8</th>\n",
       "      <td>Hiding Out (1987)</td>\n",
       "      <td>178</td>\n",
       "    </tr>\n",
       "    <tr>\n",
       "      <th>9</th>\n",
       "      <td>Love Affair (1994)</td>\n",
       "      <td>106</td>\n",
       "    </tr>\n",
       "  </tbody>\n",
       "</table>\n",
       "</div>"
      ],
      "text/plain": [
       "                                Movie  Frequency\n",
       "0             Pajama Game, The (1957)        208\n",
       "1       Safety of Objects, The (2001)        207\n",
       "2         Lonely Are the Brave (1962)        207\n",
       "3     Harry and the Hendersons (1987)        204\n",
       "4  Affair of the Necklace, The (2001)        203\n",
       "5                          JFK (1991)        202\n",
       "6            Julien Donkey-Boy (1999)        195\n",
       "7              Acid House, The (1998)        193\n",
       "8                   Hiding Out (1987)        178\n",
       "9                  Love Affair (1994)        106"
      ]
     },
     "execution_count": 12,
     "metadata": {},
     "output_type": "execute_result"
    }
   ],
   "source": [
    "from collections import Counter\n",
    "\n",
    "# Generate recommendations for each user and collect them\n",
    "all_recommendations = []\n",
    "for user_id in user_profiles['userId'].unique():\n",
    "    all_recommendations.extend(nn_recommend(user_id, top_n=10))\n",
    "\n",
    "# Count frequencies of each recommended movie\n",
    "recommendation_counts = Counter(all_recommendations)\n",
    "\n",
    "# Get the top 10 most commonly recommended movies\n",
    "top_10_recommendations = recommendation_counts.most_common(10)\n",
    "top_10_recommendations_df = pd.DataFrame(top_10_recommendations, columns=['Movie', 'Frequency'])\n",
    "\n",
    "# Display the top 10 recommendations as a table\n",
    "top_10_recommendations_df\n"
   ]
  }
 ],
 "metadata": {
  "kernelspec": {
   "display_name": "Python 3 (ipykernel)",
   "language": "python",
   "name": "python3"
  },
  "language_info": {
   "codemirror_mode": {
    "name": "ipython",
    "version": 3
   },
   "file_extension": ".py",
   "mimetype": "text/x-python",
   "name": "python",
   "nbconvert_exporter": "python",
   "pygments_lexer": "ipython3",
   "version": "3.10.14"
  }
 },
 "nbformat": 4,
 "nbformat_minor": 5
}
