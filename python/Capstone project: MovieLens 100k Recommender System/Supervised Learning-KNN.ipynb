{
 "cells": [
  {
   "cell_type": "markdown",
   "id": "69cfdec1-9a87-41b0-865d-8044c9f288ea",
   "metadata": {},
   "source": [
    "# Data Cleaning"
   ]
  },
  {
   "cell_type": "code",
   "execution_count": 1,
   "id": "49c70021-c35b-4436-92e9-ae22669270d0",
   "metadata": {},
   "outputs": [
    {
     "name": "stdout",
     "output_type": "stream",
     "text": [
      "Warning: Looks like you're using an outdated `kagglehub` version, please consider updating (latest version: 0.3.3)\n"
     ]
    }
   ],
   "source": [
    "import kagglehub\n",
    "import os\n",
    "import pandas as pd\n",
    "\n",
    "# Download latest version\n",
    "path = kagglehub.dataset_download(\"abhikjha/movielens-100k\")\n",
    "subdir_path = os.path.join(path, \"ml-latest-small\")\n",
    "\n",
    "# Load the data into DataFrames\n",
    "movies = pd.read_csv(os.path.join(subdir_path, \"movies.csv\"))\n",
    "ratings = pd.read_csv(os.path.join(subdir_path, \"ratings.csv\"))\n",
    "tags = pd.read_csv(os.path.join(subdir_path, \"tags.csv\"))\n",
    "\n",
    "# Drop the 'timestamp' column\n",
    "ratings = ratings.drop(columns=['timestamp'])\n",
    "tags = tags.drop(columns=['timestamp'])\n"
   ]
  },
  {
   "cell_type": "markdown",
   "id": "8ce0975e-faaf-4406-9dad-19d2458119db",
   "metadata": {},
   "source": [
    "# Feature Engineering"
   ]
  },
  {
   "cell_type": "code",
   "execution_count": 2,
   "id": "cbbb75c1-204d-4a1a-8dae-4c1276e90238",
   "metadata": {},
   "outputs": [],
   "source": [
    "from sklearn.feature_extraction.text import TfidfVectorizer\n",
    "from sklearn.metrics.pairwise import cosine_similarity\n",
    "\n",
    "# Split genres into individual columns\n",
    "genres = movies['genres'].str.get_dummies(sep='|')\n",
    "movies = pd.concat([movies, genres], axis=1)\n",
    "\n",
    "# Drop the '(no genres listed)' column if it exists\n",
    "if '(no genres listed)' in movies.columns:\n",
    "    movies = movies.drop(columns=['(no genres listed)'])\n",
    "\n",
    "# Merge ratings with movies to include genres\n",
    "user_genre_data = pd.merge(ratings, movies, on='movieId')\n",
    "\n",
    "# Ensure columns exist for genres\n",
    "genres_cols = [col for col in genres.columns if col in user_genre_data.columns]\n",
    "\n",
    "# Calculate average rating per genre for each user\n",
    "user_genre_avg = user_genre_data.groupby('userId')[genres_cols].mean().reset_index()\n",
    "\n",
    "# Merge tags with movies\n",
    "user_tags_data = pd.merge(tags, movies, on='movieId')\n",
    "\n",
    "# Aggregate tags for each user\n",
    "user_tags_agg = user_tags_data.groupby('userId')['tag'].apply(lambda x: ' '.join(x)).reset_index()\n",
    "\n",
    "# Merge average ratings with aggregated tags\n",
    "user_profiles = pd.merge(user_genre_avg, user_tags_agg, on='userId', how='left')\n",
    "user_profiles['tag'] = user_profiles['tag'].fillna('')\n",
    "\n",
    "# Combine genre averages and tags into a single text field\n",
    "user_profiles['user_combined'] = user_profiles[genres_cols].apply(lambda x: ' '.join(x.index[x > 0]), axis=1) + ' ' + user_profiles['tag']\n",
    "\n",
    "# Remove duplicates\n",
    "user_profiles = user_profiles.drop_duplicates(subset=['user_combined'])\n",
    "\n",
    "# Create item profiles by combining relevant features\n",
    "movies['item_combined'] = movies['genres']\n",
    "\n",
    "# Vectorize item profiles\n",
    "vectorizer = TfidfVectorizer(max_features=5000, ngram_range=(1, 2), stop_words='english')\n",
    "item_vectors = vectorizer.fit_transform(movies['item_combined'])\n",
    "\n",
    "# Vectorize user profiles\n",
    "user_vectors = vectorizer.transform(user_profiles['user_combined'])\n"
   ]
  },
  {
   "cell_type": "markdown",
   "id": "bb16c2a1-af1e-43cb-8c16-f90532c70885",
   "metadata": {},
   "source": [
    "# KNN-based recommender system"
   ]
  },
  {
   "cell_type": "code",
   "execution_count": 3,
   "id": "28efb3d9-3476-4c9b-aaec-00289f1212ea",
   "metadata": {},
   "outputs": [],
   "source": [
    "from sklearn.neighbors import NearestNeighbors\n",
    "\n",
    "# Fit KNN model\n",
    "knn = NearestNeighbors(n_neighbors=10, metric='cosine')\n",
    "knn.fit(user_vectors)\n",
    "\n",
    "# Function to recommend items based on KNN\n",
    "def knn_recommend(user_id, top_n=10):\n",
    "    user_vector = user_vectors[user_profiles[user_profiles['userId'] == user_id].index[0]]\n",
    "    distances, indices = knn.kneighbors(user_vector, n_neighbors=top_n)\n",
    "    recommended_movies = movies.iloc[indices[0]]['title'].tolist()\n",
    "    return recommended_movies\n"
   ]
  },
  {
   "cell_type": "code",
   "execution_count": 4,
   "id": "667bff65-48da-4c4c-b22a-3598249f7d08",
   "metadata": {},
   "outputs": [
    {
     "data": {
      "text/plain": [
       "['First Knight (1995)',\n",
       " 'Cure, The (1995)',\n",
       " 'Father of the Bride Part II (1995)',\n",
       " 'Drop Zone (1994)',\n",
       " 'Desperado (1995)',\n",
       " 'Dumb & Dumber (Dumb and Dumber) (1994)',\n",
       " \"Mr. Holland's Opus (1995)\",\n",
       " 'Dracula: Dead and Loving It (1995)',\n",
       " 'Tom and Huck (1995)',\n",
       " 'Indian in the Cupboard, The (1995)']"
      ]
     },
     "execution_count": 4,
     "metadata": {},
     "output_type": "execute_result"
    }
   ],
   "source": [
    "knn_recommend(user_id=5, top_n=10)"
   ]
  },
  {
   "cell_type": "code",
   "execution_count": 5,
   "id": "d8322de3-161c-4dc4-b613-15c981dc2bf6",
   "metadata": {},
   "outputs": [
    {
     "data": {
      "text/html": [
       "<div>\n",
       "<style scoped>\n",
       "    .dataframe tbody tr th:only-of-type {\n",
       "        vertical-align: middle;\n",
       "    }\n",
       "\n",
       "    .dataframe tbody tr th {\n",
       "        vertical-align: top;\n",
       "    }\n",
       "\n",
       "    .dataframe thead th {\n",
       "        text-align: right;\n",
       "    }\n",
       "</style>\n",
       "<table border=\"1\" class=\"dataframe\">\n",
       "  <thead>\n",
       "    <tr style=\"text-align: right;\">\n",
       "      <th></th>\n",
       "      <th>Recommended Movies</th>\n",
       "    </tr>\n",
       "  </thead>\n",
       "  <tbody>\n",
       "    <tr>\n",
       "      <th>1</th>\n",
       "      <td>Toy Story (1995)</td>\n",
       "    </tr>\n",
       "    <tr>\n",
       "      <th>2</th>\n",
       "      <td>Assassins (1995)</td>\n",
       "    </tr>\n",
       "    <tr>\n",
       "      <th>3</th>\n",
       "      <td>Don't Be a Menace to South Central While Drink...</td>\n",
       "    </tr>\n",
       "    <tr>\n",
       "      <th>4</th>\n",
       "      <td>Misérables, Les (1995)</td>\n",
       "    </tr>\n",
       "    <tr>\n",
       "      <th>5</th>\n",
       "      <td>Jade (1995)</td>\n",
       "    </tr>\n",
       "    <tr>\n",
       "      <th>6</th>\n",
       "      <td>Dunston Checks In (1996)</td>\n",
       "    </tr>\n",
       "    <tr>\n",
       "      <th>7</th>\n",
       "      <td>Sabrina (1995)</td>\n",
       "    </tr>\n",
       "    <tr>\n",
       "      <th>8</th>\n",
       "      <td>Heat (1995)</td>\n",
       "    </tr>\n",
       "    <tr>\n",
       "      <th>9</th>\n",
       "      <td>Beauty of the Day (Belle de jour) (1967)</td>\n",
       "    </tr>\n",
       "    <tr>\n",
       "      <th>10</th>\n",
       "      <td>Cutthroat Island (1995)</td>\n",
       "    </tr>\n",
       "  </tbody>\n",
       "</table>\n",
       "</div>"
      ],
      "text/plain": [
       "                                   Recommended Movies\n",
       "1                                    Toy Story (1995)\n",
       "2                                    Assassins (1995)\n",
       "3   Don't Be a Menace to South Central While Drink...\n",
       "4                              Misérables, Les (1995)\n",
       "5                                         Jade (1995)\n",
       "6                            Dunston Checks In (1996)\n",
       "7                                      Sabrina (1995)\n",
       "8                                         Heat (1995)\n",
       "9            Beauty of the Day (Belle de jour) (1967)\n",
       "10                            Cutthroat Island (1995)"
      ]
     },
     "execution_count": 5,
     "metadata": {},
     "output_type": "execute_result"
    }
   ],
   "source": [
    "# Recommend movies for a specific user using Neural Network Embeddings\n",
    "user_id = 1\n",
    "recommended_movies = knn_recommend(user_id, top_n=10)\n",
    "\n",
    "# Create a DataFrame to display the recommendations as a table\n",
    "recommendations_df = pd.DataFrame(recommended_movies, columns=['Recommended Movies'])\n",
    "recommendations_df.index = range(1, len(recommendations_df) + 1)  # Add ranking\n",
    "\n",
    "# Display the DataFrame\n",
    "recommendations_df\n"
   ]
  },
  {
   "cell_type": "markdown",
   "id": "36e03524-2548-4ab4-8f16-616e0e5145b1",
   "metadata": {},
   "source": [
    "# Evaluation"
   ]
  },
  {
   "cell_type": "code",
   "execution_count": 6,
   "id": "be4fcc69-8311-47a2-a984-0b65b5a2932e",
   "metadata": {},
   "outputs": [],
   "source": [
    "# Merge seen movies with user_profiles\n",
    "user_seen_movies = user_genre_data.groupby('userId')['title'].apply(set).reset_index()\n",
    "user_seen_movies.rename(columns={'title': 'Seen Movies'}, inplace=True)\n",
    "\n",
    "# Append recommendations to the existing dataframe for each user\n",
    "user_profiles = user_profiles.merge(user_seen_movies, on='userId', how='left')\n"
   ]
  },
  {
   "cell_type": "code",
   "execution_count": 7,
   "id": "14fb0205-e189-4d10-9673-e2ea61729061",
   "metadata": {},
   "outputs": [],
   "source": [
    "import numpy as np\n",
    "from sklearn.metrics import precision_score, recall_score, f1_score, mean_squared_error\n",
    "\n",
    "def evaluate_knn(user_id, top_n=10):\n",
    "    # Check if user_id is valid\n",
    "    if user_id not in user_profiles['userId'].values:\n",
    "        raise ValueError(f\"User ID {user_id} not found in user profiles.\")\n",
    "\n",
    "    # Get the recommended movies\n",
    "    recommended_movies = knn_recommend(user_id, top_n=top_n)\n",
    "    \n",
    "    # Get the movies the user has already seen\n",
    "    seen_movies = user_profiles[user_profiles['userId'] == user_id]['Seen Movies'].values[0]\n",
    "    \n",
    "    # Convert to binary arrays\n",
    "    y_true = [1 if movie in seen_movies else 0 for movie in movies['title']]\n",
    "    y_pred = [1 if movie in recommended_movies else 0 for movie in movies['title']]\n",
    "    \n",
    "    # Calculate precision, recall, and f1 score\n",
    "    precision = precision_score(y_true, y_pred)\n",
    "    recall = recall_score(y_true, y_pred)\n",
    "    f1 = f1_score(y_true, y_pred)\n",
    "\n",
    "    # Get the recommended movies and their distances\n",
    "    user_vector = user_vectors[user_profiles[user_profiles['userId'] == user_id].index[0]]\n",
    "    distances, indices = knn.kneighbors(user_vector, n_neighbors=top_n)\n",
    "    \n",
    "    # Create a DataFrame for the recommended movies\n",
    "    recommended_movies = movies.iloc[indices[0]][['movieId', 'title']]\n",
    "    \n",
    "    # Get the actual ratings\n",
    "    actual_ratings = ratings[ratings['userId'] == user_id]\n",
    "    \n",
    "    # Merge to get actual ratings for the recommended movies\n",
    "    merged = pd.merge(recommended_movies, actual_ratings, on='movieId', how='left')\n",
    "    \n",
    "    # Assign default ratings to missing values\n",
    "    default_rating = 2.5\n",
    "    merged = merged.copy()\n",
    "    merged['rating'] = merged['rating'].fillna(default_rating)\n",
    "    \n",
    "    # Get the predicted ratings\n",
    "    predicted_ratings = [1 - dist for dist in distances[0][:len(merged)]]  # Match length of actual ratings\n",
    "    \n",
    "    # Calculate RMSE\n",
    "    y_true = merged['rating'].values\n",
    "    y_pred = predicted_ratings\n",
    "    rmse = np.sqrt(mean_squared_error(y_true, y_pred))\n",
    "    \n",
    "    return precision, recall, f1, rmse"
   ]
  },
  {
   "cell_type": "markdown",
   "id": "f72c1560-32c8-43f4-9a59-5aaef2a0fcb6",
   "metadata": {},
   "source": [
    "### Evaluate for 1 user"
   ]
  },
  {
   "cell_type": "code",
   "execution_count": 8,
   "id": "a3d07f4c-4430-467d-bde1-b695773ecb7a",
   "metadata": {},
   "outputs": [
    {
     "name": "stdout",
     "output_type": "stream",
     "text": [
      "KNN-based System for user 1:\n",
      "Precision: 0.008620689655172414\n",
      "Recall: 0.01652892561983471\n",
      "F1-Score: 1.9563803667008415\n",
      "RMSE: 0.2\n"
     ]
    }
   ],
   "source": [
    "rmse, precision, recall, f1 = evaluate_knn(user_id=1)\n",
    "print(f\"KNN-based System for user {user_id}:\")\n",
    "print(f\"Precision: {precision}\")\n",
    "print(f\"Recall: {recall}\")\n",
    "print(f\"F1-Score: {f1}\")\n",
    "print(f\"RMSE: {rmse}\")"
   ]
  },
  {
   "cell_type": "markdown",
   "id": "c8a95504-d67e-48b6-9133-7b0e981d5c1c",
   "metadata": {},
   "source": [
    "### Evaluate for all users"
   ]
  },
  {
   "cell_type": "code",
   "execution_count": 9,
   "id": "35a28c3e-7205-472c-aa81-51154b072380",
   "metadata": {},
   "outputs": [
    {
     "name": "stdout",
     "output_type": "stream",
     "text": [
      "KNN-based System for all users:\n",
      "Average Precision: 0.0386046511627907\n",
      "Average Recall: 0.0045157466313646985\n",
      "Average F1-Score: 0.007432272590011486\n",
      "Average RMSE: 0.43038819564701514\n"
     ]
    }
   ],
   "source": [
    "# Calculate metrics for all users\n",
    "user_ids = user_profiles['userId'].unique()\n",
    "metrics = [evaluate_knn(user_id) for user_id in user_ids]\n",
    "rmses = [evaluate_knn(user_id) for user_id in user_profiles['userId'].unique()]\n",
    "\n",
    "# Average the results\n",
    "average_precision = np.mean([m[0] for m in metrics])\n",
    "average_recall = np.mean([m[1] for m in metrics])\n",
    "average_f1 = np.mean([m[2] for m in metrics])\n",
    "average_rmse = np.mean(rmses)\n",
    "\n",
    "print(f\"KNN-based System for all users:\")\n",
    "print(f\"Average Precision: {average_precision}\")\n",
    "print(f\"Average Recall: {average_recall}\")\n",
    "print(f\"Average F1-Score: {average_f1}\")\n",
    "print(f\"Average RMSE: {average_rmse}\")\n"
   ]
  },
  {
   "cell_type": "markdown",
   "id": "de819f3c-235e-4279-a326-a94e406a8abc",
   "metadata": {},
   "source": [
    "# Average number of new/unseen courses recommended per user"
   ]
  },
  {
   "cell_type": "code",
   "execution_count": 10,
   "id": "68c85360-832b-4c77-bdcd-12e95c339e95",
   "metadata": {},
   "outputs": [
    {
     "name": "stdout",
     "output_type": "stream",
     "text": [
      "Average number of new/unseen movies recommended per user: 9.613953488372093\n"
     ]
    }
   ],
   "source": [
    "def count_new_recommendations(row):\n",
    "    seen_movies = row['Seen Movies']\n",
    "    recommended_movies = set(knn_recommend(row['userId'], top_n=10))\n",
    "    new_recommendations = recommended_movies - seen_movies\n",
    "    return len(new_recommendations)\n",
    "\n",
    "# Calculate new recommendations for each user\n",
    "user_profiles['new_recommendations'] = user_profiles.apply(count_new_recommendations, axis=1)\n",
    "\n",
    "# Compute the average number of new/unseen recommendations per user\n",
    "average_new_recommendations = user_profiles['new_recommendations'].mean()\n",
    "print(f\"Average number of new/unseen movies recommended per user: {average_new_recommendations}\")\n"
   ]
  },
  {
   "cell_type": "markdown",
   "id": "7ca4a8a8-5d55-40fe-bd4b-0d8ed71de8b3",
   "metadata": {},
   "source": [
    "# Top 10 most commonly recommended"
   ]
  },
  {
   "cell_type": "code",
   "execution_count": 11,
   "id": "f3696bb0-15bc-47b8-abd0-7e2a314905b9",
   "metadata": {},
   "outputs": [
    {
     "data": {
      "text/html": [
       "<div>\n",
       "<style scoped>\n",
       "    .dataframe tbody tr th:only-of-type {\n",
       "        vertical-align: middle;\n",
       "    }\n",
       "\n",
       "    .dataframe tbody tr th {\n",
       "        vertical-align: top;\n",
       "    }\n",
       "\n",
       "    .dataframe thead th {\n",
       "        text-align: right;\n",
       "    }\n",
       "</style>\n",
       "<table border=\"1\" class=\"dataframe\">\n",
       "  <thead>\n",
       "    <tr style=\"text-align: right;\">\n",
       "      <th></th>\n",
       "      <th>Movie</th>\n",
       "      <th>Frequency</th>\n",
       "    </tr>\n",
       "  </thead>\n",
       "  <tbody>\n",
       "    <tr>\n",
       "      <th>0</th>\n",
       "      <td>Mary Reilly (1996)</td>\n",
       "      <td>34</td>\n",
       "    </tr>\n",
       "    <tr>\n",
       "      <th>1</th>\n",
       "      <td>Brothers McMullen, The (1995)</td>\n",
       "      <td>33</td>\n",
       "    </tr>\n",
       "    <tr>\n",
       "      <th>2</th>\n",
       "      <td>Down Periscope (1996)</td>\n",
       "      <td>31</td>\n",
       "    </tr>\n",
       "    <tr>\n",
       "      <th>3</th>\n",
       "      <td>Living in Oblivion (1995)</td>\n",
       "      <td>30</td>\n",
       "    </tr>\n",
       "    <tr>\n",
       "      <th>4</th>\n",
       "      <td>Clerks (1994)</td>\n",
       "      <td>29</td>\n",
       "    </tr>\n",
       "    <tr>\n",
       "      <th>5</th>\n",
       "      <td>White Squall (1996)</td>\n",
       "      <td>29</td>\n",
       "    </tr>\n",
       "    <tr>\n",
       "      <th>6</th>\n",
       "      <td>Home for the Holidays (1995)</td>\n",
       "      <td>27</td>\n",
       "    </tr>\n",
       "    <tr>\n",
       "      <th>7</th>\n",
       "      <td>Heavyweights (Heavy Weights) (1995)</td>\n",
       "      <td>26</td>\n",
       "    </tr>\n",
       "    <tr>\n",
       "      <th>8</th>\n",
       "      <td>Indian in the Cupboard, The (1995)</td>\n",
       "      <td>26</td>\n",
       "    </tr>\n",
       "    <tr>\n",
       "      <th>9</th>\n",
       "      <td>Drop Zone (1994)</td>\n",
       "      <td>25</td>\n",
       "    </tr>\n",
       "  </tbody>\n",
       "</table>\n",
       "</div>"
      ],
      "text/plain": [
       "                                 Movie  Frequency\n",
       "0                   Mary Reilly (1996)         34\n",
       "1        Brothers McMullen, The (1995)         33\n",
       "2                Down Periscope (1996)         31\n",
       "3            Living in Oblivion (1995)         30\n",
       "4                        Clerks (1994)         29\n",
       "5                  White Squall (1996)         29\n",
       "6         Home for the Holidays (1995)         27\n",
       "7  Heavyweights (Heavy Weights) (1995)         26\n",
       "8   Indian in the Cupboard, The (1995)         26\n",
       "9                     Drop Zone (1994)         25"
      ]
     },
     "execution_count": 11,
     "metadata": {},
     "output_type": "execute_result"
    }
   ],
   "source": [
    "from collections import Counter\n",
    "\n",
    "# Generate recommendations for each user and collect them\n",
    "all_recommendations = []\n",
    "for user_id in user_profiles['userId'].unique():\n",
    "    all_recommendations.extend(knn_recommend(user_id, top_n=10))\n",
    "\n",
    "# Count frequencies of each recommended movie\n",
    "recommendation_counts = Counter(all_recommendations)\n",
    "\n",
    "# Get the top 10 most commonly recommended movies\n",
    "top_10_recommendations = recommendation_counts.most_common(10)\n",
    "top_10_recommendations_df = pd.DataFrame(top_10_recommendations, columns=['Movie', 'Frequency'])\n",
    "\n",
    "# Display the top 10 recommendations as a table\n",
    "top_10_recommendations_df\n"
   ]
  },
  {
   "cell_type": "code",
   "execution_count": null,
   "id": "39fca579-2b7e-4690-9f25-6c83d1090ceb",
   "metadata": {},
   "outputs": [],
   "source": []
  }
 ],
 "metadata": {
  "kernelspec": {
   "display_name": "Python 3 (ipykernel)",
   "language": "python",
   "name": "python3"
  },
  "language_info": {
   "codemirror_mode": {
    "name": "ipython",
    "version": 3
   },
   "file_extension": ".py",
   "mimetype": "text/x-python",
   "name": "python",
   "nbconvert_exporter": "python",
   "pygments_lexer": "ipython3",
   "version": "3.10.14"
  }
 },
 "nbformat": 4,
 "nbformat_minor": 5
}
