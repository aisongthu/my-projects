{
 "cells": [
  {
   "cell_type": "markdown",
   "id": "69cfdec1-9a87-41b0-865d-8044c9f288ea",
   "metadata": {},
   "source": [
    "# Data Cleaning"
   ]
  },
  {
   "cell_type": "code",
   "execution_count": 1,
   "id": "49c70021-c35b-4436-92e9-ae22669270d0",
   "metadata": {},
   "outputs": [
    {
     "name": "stdout",
     "output_type": "stream",
     "text": [
      "Warning: Looks like you're using an outdated `kagglehub` version, please consider updating (latest version: 0.3.3)\n"
     ]
    }
   ],
   "source": [
    "import kagglehub\n",
    "import os\n",
    "import pandas as pd\n",
    "\n",
    "# Download latest version\n",
    "path = kagglehub.dataset_download(\"abhikjha/movielens-100k\")\n",
    "subdir_path = os.path.join(path, \"ml-latest-small\")\n",
    "\n",
    "# Load the data into DataFrames\n",
    "movies = pd.read_csv(os.path.join(subdir_path, \"movies.csv\"))\n",
    "ratings = pd.read_csv(os.path.join(subdir_path, \"ratings.csv\"))\n",
    "tags = pd.read_csv(os.path.join(subdir_path, \"tags.csv\"))\n",
    "\n",
    "# Drop the 'timestamp' column\n",
    "ratings = ratings.drop(columns=['timestamp'])\n",
    "tags = tags.drop(columns=['timestamp'])\n"
   ]
  },
  {
   "cell_type": "markdown",
   "id": "727ad563-bb49-4c08-b572-ea48916055c4",
   "metadata": {},
   "source": [
    "# Feature engineering"
   ]
  },
  {
   "cell_type": "code",
   "execution_count": 2,
   "id": "1c6b5296-e7e0-4eb7-8abd-a8e15bf1554d",
   "metadata": {},
   "outputs": [],
   "source": [
    "from sklearn.feature_extraction.text import TfidfVectorizer\n",
    "from sklearn.metrics.pairwise import cosine_similarity\n",
    "\n",
    "# Split genres into individual columns\n",
    "genres = movies['genres'].str.get_dummies(sep='|')\n",
    "movies = pd.concat([movies, genres], axis=1)\n",
    "\n",
    "# Drop the '(no genres listed)' column if it exists\n",
    "if '(no genres listed)' in movies.columns:\n",
    "    movies = movies.drop(columns=['(no genres listed)'])\n",
    "\n",
    "# Merge ratings with movies to include genres\n",
    "user_genre_data = pd.merge(ratings, movies, on='movieId')\n",
    "\n",
    "# Ensure columns exist for genres\n",
    "genres_cols = [col for col in genres.columns if col in user_genre_data.columns]\n",
    "\n",
    "# Calculate average rating per genre for each user\n",
    "user_genre_avg = user_genre_data.groupby('userId')[genres_cols].mean().reset_index()\n",
    "\n",
    "# Merge tags with movies\n",
    "user_tags_data = pd.merge(tags, movies, on='movieId')\n",
    "\n",
    "# Aggregate tags for each user\n",
    "user_tags_agg = user_tags_data.groupby('userId')['tag'].apply(lambda x: ' '.join(x)).reset_index()\n",
    "\n",
    "# Merge average ratings with aggregated tags\n",
    "user_profiles = pd.merge(user_genre_avg, user_tags_agg, on='userId', how='left')\n",
    "user_profiles['tag'] = user_profiles['tag'].fillna('')\n",
    "\n",
    "# Combine genre averages and tags into a single text field\n",
    "user_profiles['user_combined'] = user_profiles[genres_cols].apply(lambda x: ' '.join(x.index[x > 0]), axis=1) + ' ' + user_profiles['tag']\n",
    "\n",
    "# Remove duplicates\n",
    "user_profiles = user_profiles.drop_duplicates(subset=['user_combined'])\n",
    "\n",
    "# Create item profiles by combining relevant features\n",
    "movies['item_combined'] = movies['genres']\n",
    "\n",
    "# Vectorize item profiles\n",
    "vectorizer = TfidfVectorizer(max_features=5000, ngram_range=(1, 2), stop_words='english')\n",
    "item_vectors = vectorizer.fit_transform(movies['item_combined'])\n",
    "\n",
    "# Vectorize user profiles\n",
    "user_vectors = vectorizer.transform(user_profiles['user_combined'])\n"
   ]
  },
  {
   "cell_type": "markdown",
   "id": "6cbf42e2-bd0c-4356-ad37-59a01263358a",
   "metadata": {},
   "source": [
    "# User-based recommender system"
   ]
  },
  {
   "cell_type": "code",
   "execution_count": 3,
   "id": "811fb4b5-bb54-4fe6-bb86-a08079d12f8f",
   "metadata": {},
   "outputs": [],
   "source": [
    "def recommend_for_user(user_id, top_n=10):\n",
    "    user_idx = user_profiles[user_profiles['userId'] == user_id].index\n",
    "    if user_idx.empty:\n",
    "        return []\n",
    "    \n",
    "    user_vector = user_vectors[user_idx[0]]\n",
    "    \n",
    "    # Calculate the cosine similarity between the user vector and item profiles\n",
    "    cosine_sim = cosine_similarity(user_vector, item_vectors)\n",
    "    \n",
    "    # Get the top N recommendations\n",
    "    top_indices = cosine_sim[0].argsort()[-top_n:][::-1]\n",
    "    recommended_movies = [movies.iloc[i]['title'] for i in top_indices]\n",
    "    \n",
    "    return recommended_movies\n"
   ]
  },
  {
   "cell_type": "code",
   "execution_count": 4,
   "id": "3e34c918-32e9-474e-94d1-1d0a0f12b9e4",
   "metadata": {},
   "outputs": [],
   "source": [
    "# Example: Recommend movies for a specific user\n",
    "user_id = 1\n",
    "recommended_movies = recommend_for_user(user_id)\n"
   ]
  },
  {
   "cell_type": "code",
   "execution_count": 5,
   "id": "ad6c838b-5754-4d2d-84fb-5f13db037d0e",
   "metadata": {},
   "outputs": [
    {
     "data": {
      "text/plain": [
       "['Lost Highway (1997)',\n",
       " 'Rubber (2010)',\n",
       " 'Angel Heart (1987)',\n",
       " 'Song of the Thin Man (1947)',\n",
       " 'Vanilla Sky (2001)',\n",
       " 'Alphaville (Alphaville, une étrange aventure de Lemmy Caution) (1965)',\n",
       " 'Aelita: The Queen of Mars (Aelita) (1924)',\n",
       " 'Inside Out (2015)',\n",
       " 'Chicken Little (2005)',\n",
       " 'Ratchet & Clank (2016)']"
      ]
     },
     "execution_count": 5,
     "metadata": {},
     "output_type": "execute_result"
    }
   ],
   "source": [
    "recommended_movies"
   ]
  },
  {
   "cell_type": "code",
   "execution_count": 6,
   "id": "fe6a03d2-f0f1-4b6e-b1a2-909fc9d06cc4",
   "metadata": {},
   "outputs": [
    {
     "data": {
      "text/html": [
       "<div>\n",
       "<style scoped>\n",
       "    .dataframe tbody tr th:only-of-type {\n",
       "        vertical-align: middle;\n",
       "    }\n",
       "\n",
       "    .dataframe tbody tr th {\n",
       "        vertical-align: top;\n",
       "    }\n",
       "\n",
       "    .dataframe thead th {\n",
       "        text-align: right;\n",
       "    }\n",
       "</style>\n",
       "<table border=\"1\" class=\"dataframe\">\n",
       "  <thead>\n",
       "    <tr style=\"text-align: right;\">\n",
       "      <th></th>\n",
       "      <th>Recommended Movies</th>\n",
       "    </tr>\n",
       "  </thead>\n",
       "  <tbody>\n",
       "    <tr>\n",
       "      <th>0</th>\n",
       "      <td>Lost Highway (1997)</td>\n",
       "    </tr>\n",
       "    <tr>\n",
       "      <th>1</th>\n",
       "      <td>Rubber (2010)</td>\n",
       "    </tr>\n",
       "    <tr>\n",
       "      <th>2</th>\n",
       "      <td>Angel Heart (1987)</td>\n",
       "    </tr>\n",
       "    <tr>\n",
       "      <th>3</th>\n",
       "      <td>Song of the Thin Man (1947)</td>\n",
       "    </tr>\n",
       "    <tr>\n",
       "      <th>4</th>\n",
       "      <td>Vanilla Sky (2001)</td>\n",
       "    </tr>\n",
       "    <tr>\n",
       "      <th>5</th>\n",
       "      <td>Alphaville (Alphaville, une étrange aventure d...</td>\n",
       "    </tr>\n",
       "    <tr>\n",
       "      <th>6</th>\n",
       "      <td>Aelita: The Queen of Mars (Aelita) (1924)</td>\n",
       "    </tr>\n",
       "    <tr>\n",
       "      <th>7</th>\n",
       "      <td>Inside Out (2015)</td>\n",
       "    </tr>\n",
       "    <tr>\n",
       "      <th>8</th>\n",
       "      <td>Chicken Little (2005)</td>\n",
       "    </tr>\n",
       "    <tr>\n",
       "      <th>9</th>\n",
       "      <td>Ratchet &amp; Clank (2016)</td>\n",
       "    </tr>\n",
       "  </tbody>\n",
       "</table>\n",
       "</div>"
      ],
      "text/plain": [
       "                                  Recommended Movies\n",
       "0                                Lost Highway (1997)\n",
       "1                                      Rubber (2010)\n",
       "2                                 Angel Heart (1987)\n",
       "3                        Song of the Thin Man (1947)\n",
       "4                                 Vanilla Sky (2001)\n",
       "5  Alphaville (Alphaville, une étrange aventure d...\n",
       "6          Aelita: The Queen of Mars (Aelita) (1924)\n",
       "7                                  Inside Out (2015)\n",
       "8                              Chicken Little (2005)\n",
       "9                             Ratchet & Clank (2016)"
      ]
     },
     "execution_count": 6,
     "metadata": {},
     "output_type": "execute_result"
    }
   ],
   "source": [
    "# Display the recommendations in a table\n",
    "recommendations_df = pd.DataFrame(recommended_movies, columns=['Recommended Movies'])\n",
    "recommendations_df\n"
   ]
  },
  {
   "cell_type": "markdown",
   "id": "17d6219c-d8b4-473a-994d-f692f3653ee8",
   "metadata": {},
   "source": [
    "# Evaluation"
   ]
  },
  {
   "cell_type": "code",
   "execution_count": 7,
   "id": "f418ad17-d62a-41a7-a2c7-04eeeb9e0c32",
   "metadata": {},
   "outputs": [],
   "source": [
    "# Merge seen movies with user_profiles\n",
    "user_seen_movies = user_genre_data.groupby('userId')['title'].apply(set).reset_index()\n",
    "user_seen_movies.rename(columns={'title': 'Seen Movies'}, inplace=True)\n",
    "\n",
    "# Append recommendations to the existing dataframe for each user\n",
    "user_profiles = user_profiles.merge(user_seen_movies, on='userId', how='left')\n"
   ]
  },
  {
   "cell_type": "code",
   "execution_count": 8,
   "id": "72fd4c1d-40bc-4818-8f97-1573bd7551f7",
   "metadata": {},
   "outputs": [],
   "source": [
    "import numpy as np\n",
    "from sklearn.metrics import precision_score, recall_score, f1_score, mean_squared_error\n",
    "\n",
    "def evaluate_user(user_id, top_n=10, default_rating=2.5):\n",
    "    if user_id not in user_profiles['userId'].values:\n",
    "        raise ValueError(f\"User ID {user_id} not found in user profiles.\")\n",
    "    \n",
    "    recommended_movies = recommend_for_user(user_id, top_n=top_n)\n",
    "    seen_movies = user_profiles[user_profiles['userId'] == user_id]['Seen Movies'].values[0]\n",
    "    \n",
    "    y_true = [1 if movie in seen_movies else 0 for movie in movies['title']]\n",
    "    y_pred = [1 if movie in recommended_movies else 0 for movie in movies['title']]\n",
    "    \n",
    "    precision = precision_score(y_true, y_pred)\n",
    "    recall = recall_score(y_true, y_pred)\n",
    "    f1 = f1_score(y_true, y_pred)\n",
    "    \n",
    "    # Calculate RMSE\n",
    "    user_vector = user_vectors[user_profiles[user_profiles['userId'] == user_id].index[0]]\n",
    "    cosine_sim = cosine_similarity(user_vector, item_vectors)\n",
    "    user_ratings_pred = cosine_sim.flatten()\n",
    "    actual_ratings = ratings[ratings['userId'] == user_id]\n",
    "    \n",
    "    merged = pd.merge(movies[['movieId', 'title']], actual_ratings, on='movieId', how='left')\n",
    "    merged = merged.copy()\n",
    "    merged['rating'] = merged['rating'].fillna(default_rating)\n",
    "    \n",
    "    y_true_rmse = merged['rating'].values\n",
    "    y_pred_rmse = user_ratings_pred[:len(y_true_rmse)]\n",
    "    rmse = np.sqrt(mean_squared_error(y_true_rmse, y_pred_rmse))\n",
    "    \n",
    "    return precision, recall, f1, rmse\n"
   ]
  },
  {
   "cell_type": "markdown",
   "id": "ca538e72-641f-4c5d-8324-18435d8a5bfd",
   "metadata": {},
   "source": [
    "### Evaluate for 1 user"
   ]
  },
  {
   "cell_type": "code",
   "execution_count": 9,
   "id": "61889837-f043-4540-8242-43aec348e321",
   "metadata": {},
   "outputs": [
    {
     "name": "stdout",
     "output_type": "stream",
     "text": [
      "User profile-based System for user 1:\n",
      "Precision: 0.0\n",
      "Recall: 0.0\n",
      "F1-Score: 0.0\n",
      "RMSE: 2.4544170799563503\n"
     ]
    }
   ],
   "source": [
    "precision, recall, f1, rmse = evaluate_user(user_id=1)\n",
    "print(f\"User profile-based System for user {user_id}:\")\n",
    "print(f\"Precision: {precision}\")\n",
    "print(f\"Recall: {recall}\")\n",
    "print(f\"F1-Score: {f1}\")\n",
    "print(f\"RMSE: {rmse}\")\n"
   ]
  },
  {
   "cell_type": "markdown",
   "id": "8076649b-6e88-4b4c-ae3b-dcd1efed50f0",
   "metadata": {},
   "source": [
    "### Evaluate for all users"
   ]
  },
  {
   "cell_type": "code",
   "execution_count": 10,
   "id": "6eb46e38-3e02-442f-9b21-8fc479b606e4",
   "metadata": {},
   "outputs": [
    {
     "name": "stdout",
     "output_type": "stream",
     "text": [
      "User profile-based System for all users:\n",
      "Average Precision: 0.02418604651162791\n",
      "Average Recall: 0.0023377598758864446\n",
      "Average F1-Score: 0.0037201350594944847\n",
      "Average RMSE: 0.6073388644628674\n"
     ]
    }
   ],
   "source": [
    "# Calculate metrics for all users\n",
    "user_ids = user_profiles['userId'].unique()\n",
    "metrics = [evaluate_user(user_id) for user_id in user_ids]\n",
    "rmses = [evaluate_user(user_id) for user_id in user_profiles['userId'].unique()]\n",
    "\n",
    "# Average the results\n",
    "average_precision = np.mean([m[0] for m in metrics])\n",
    "average_recall = np.mean([m[1] for m in metrics])\n",
    "average_f1 = np.mean([m[2] for m in metrics])\n",
    "average_rmse = np.mean(rmses)\n",
    "\n",
    "print(f\"User profile-based System for all users:\")\n",
    "print(f\"Average Precision: {average_precision}\")\n",
    "print(f\"Average Recall: {average_recall}\")\n",
    "print(f\"Average F1-Score: {average_f1}\")\n",
    "print(f\"Average RMSE: {average_rmse}\")\n"
   ]
  },
  {
   "cell_type": "markdown",
   "id": "7c75ebb3-0371-4f52-aad8-4687ed338f23",
   "metadata": {},
   "source": [
    "# Average number of new/unseen courses recommended per user"
   ]
  },
  {
   "cell_type": "code",
   "execution_count": 11,
   "id": "88800021-3623-4833-a340-67a5889d7e3d",
   "metadata": {},
   "outputs": [
    {
     "name": "stdout",
     "output_type": "stream",
     "text": [
      "Average number of new/unseen movies recommended per user: 9.758139534883721\n"
     ]
    }
   ],
   "source": [
    "def count_new_recommendations(row):\n",
    "    seen_movies = row['Seen Movies']\n",
    "    recommended_movies = set(recommend_for_user(row['userId'], top_n=10))\n",
    "    new_recommendations = recommended_movies - seen_movies\n",
    "    return len(new_recommendations)\n",
    "\n",
    "# Calculate new recommendations for each user\n",
    "user_profiles['new_recommendations'] = user_profiles.apply(count_new_recommendations, axis=1)\n",
    "\n",
    "# Compute the average number of new/unseen recommendations per user\n",
    "average_new_recommendations = user_profiles['new_recommendations'].mean()\n",
    "print(f\"Average number of new/unseen movies recommended per user: {average_new_recommendations}\")\n"
   ]
  },
  {
   "cell_type": "markdown",
   "id": "6286b3df-896d-47cd-a019-d1e3e93a1799",
   "metadata": {},
   "source": [
    "# Top 10 Most Frequently Recommended"
   ]
  },
  {
   "cell_type": "code",
   "execution_count": 12,
   "id": "8f029b70-6166-427e-a601-570f210d920f",
   "metadata": {},
   "outputs": [
    {
     "data": {
      "text/html": [
       "<div>\n",
       "<style scoped>\n",
       "    .dataframe tbody tr th:only-of-type {\n",
       "        vertical-align: middle;\n",
       "    }\n",
       "\n",
       "    .dataframe tbody tr th {\n",
       "        vertical-align: top;\n",
       "    }\n",
       "\n",
       "    .dataframe thead th {\n",
       "        text-align: right;\n",
       "    }\n",
       "</style>\n",
       "<table border=\"1\" class=\"dataframe\">\n",
       "  <thead>\n",
       "    <tr style=\"text-align: right;\">\n",
       "      <th></th>\n",
       "      <th>Movie</th>\n",
       "      <th>Frequency</th>\n",
       "    </tr>\n",
       "  </thead>\n",
       "  <tbody>\n",
       "    <tr>\n",
       "      <th>0</th>\n",
       "      <td>Vanilla Sky (2001)</td>\n",
       "      <td>169</td>\n",
       "    </tr>\n",
       "    <tr>\n",
       "      <th>1</th>\n",
       "      <td>Aelita: The Queen of Mars (Aelita) (1924)</td>\n",
       "      <td>167</td>\n",
       "    </tr>\n",
       "    <tr>\n",
       "      <th>2</th>\n",
       "      <td>Alphaville (Alphaville, une étrange aventure d...</td>\n",
       "      <td>165</td>\n",
       "    </tr>\n",
       "    <tr>\n",
       "      <th>3</th>\n",
       "      <td>Inside Out (2015)</td>\n",
       "      <td>105</td>\n",
       "    </tr>\n",
       "    <tr>\n",
       "      <th>4</th>\n",
       "      <td>Ratchet &amp; Clank (2016)</td>\n",
       "      <td>100</td>\n",
       "    </tr>\n",
       "    <tr>\n",
       "      <th>5</th>\n",
       "      <td>Song of the Thin Man (1947)</td>\n",
       "      <td>94</td>\n",
       "    </tr>\n",
       "    <tr>\n",
       "      <th>6</th>\n",
       "      <td>Chicken Little (2005)</td>\n",
       "      <td>92</td>\n",
       "    </tr>\n",
       "    <tr>\n",
       "      <th>7</th>\n",
       "      <td>Meet the Robinsons (2007)</td>\n",
       "      <td>90</td>\n",
       "    </tr>\n",
       "    <tr>\n",
       "      <th>8</th>\n",
       "      <td>Lost Highway (1997)</td>\n",
       "      <td>74</td>\n",
       "    </tr>\n",
       "    <tr>\n",
       "      <th>9</th>\n",
       "      <td>X-Men: First Class (2011)</td>\n",
       "      <td>70</td>\n",
       "    </tr>\n",
       "  </tbody>\n",
       "</table>\n",
       "</div>"
      ],
      "text/plain": [
       "                                               Movie  Frequency\n",
       "0                                 Vanilla Sky (2001)        169\n",
       "1          Aelita: The Queen of Mars (Aelita) (1924)        167\n",
       "2  Alphaville (Alphaville, une étrange aventure d...        165\n",
       "3                                  Inside Out (2015)        105\n",
       "4                             Ratchet & Clank (2016)        100\n",
       "5                        Song of the Thin Man (1947)         94\n",
       "6                              Chicken Little (2005)         92\n",
       "7                          Meet the Robinsons (2007)         90\n",
       "8                                Lost Highway (1997)         74\n",
       "9                          X-Men: First Class (2011)         70"
      ]
     },
     "execution_count": 12,
     "metadata": {},
     "output_type": "execute_result"
    }
   ],
   "source": [
    "from collections import Counter\n",
    "\n",
    "# Generate recommendations for each user and collect them\n",
    "all_recommendations = []\n",
    "for user_id in user_profiles['userId'].unique():\n",
    "    all_recommendations.extend(recommend_for_user(user_id, top_n=10))\n",
    "\n",
    "# Count frequencies of each recommended movie\n",
    "recommendation_counts = Counter(all_recommendations)\n",
    "\n",
    "# Get the top 10 most commonly recommended movies\n",
    "top_10_recommendations = recommendation_counts.most_common(10)\n",
    "top_10_recommendations_df = pd.DataFrame(top_10_recommendations, columns=['Movie', 'Frequency'])\n",
    "\n",
    "# Display the top 10 recommendations as a table\n",
    "top_10_recommendations_df\n"
   ]
  },
  {
   "cell_type": "code",
   "execution_count": null,
   "id": "f92e312b-6689-4473-bd28-496a8ac5ee49",
   "metadata": {},
   "outputs": [],
   "source": []
  }
 ],
 "metadata": {
  "kernelspec": {
   "display_name": "Python 3 (ipykernel)",
   "language": "python",
   "name": "python3"
  },
  "language_info": {
   "codemirror_mode": {
    "name": "ipython",
    "version": 3
   },
   "file_extension": ".py",
   "mimetype": "text/x-python",
   "name": "python",
   "nbconvert_exporter": "python",
   "pygments_lexer": "ipython3",
   "version": "3.10.14"
  }
 },
 "nbformat": 4,
 "nbformat_minor": 5
}
